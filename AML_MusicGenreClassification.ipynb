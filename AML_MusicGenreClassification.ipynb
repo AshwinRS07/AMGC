{
  "nbformat": 4,
  "nbformat_minor": 0,
  "metadata": {
    "kernelspec": {
      "display_name": "Python 3",
      "language": "python",
      "name": "python3"
    },
    "language_info": {
      "codemirror_mode": {
        "name": "ipython",
        "version": 3
      },
      "file_extension": ".py",
      "mimetype": "text/x-python",
      "name": "python",
      "nbconvert_exporter": "python",
      "pygments_lexer": "ipython3",
      "version": "3.7.0"
    },
    "colab": {
      "name": "AML-MusicGenreClassification.ipynb",
      "provenance": [],
      "collapsed_sections": [],
      "include_colab_link": true
    }
  },
  "cells": [
    {
      "cell_type": "markdown",
      "metadata": {
        "id": "view-in-github",
        "colab_type": "text"
      },
      "source": [
        "<a href=\"https://colab.research.google.com/github/AshwinRS07/AMGC/blob/main/AML_MusicGenreClassification.ipynb\" target=\"_parent\"><img src=\"https://colab.research.google.com/assets/colab-badge.svg\" alt=\"Open In Colab\"/></a>"
      ]
    },
    {
      "cell_type": "code",
      "metadata": {
        "colab": {
          "base_uri": "https://localhost:8080/"
        },
        "id": "pYHpwy4ix2fj",
        "outputId": "f274f428-3ea6-401a-8415-1703abbd1eb2"
      },
      "source": [
        "from google.colab import drive\n",
        "drive.mount('/content/drive')"
      ],
      "execution_count": null,
      "outputs": [
        {
          "output_type": "stream",
          "name": "stdout",
          "text": [
            "Drive already mounted at /content/drive; to attempt to forcibly remount, call drive.mount(\"/content/drive\", force_remount=True).\n"
          ]
        }
      ]
    },
    {
      "cell_type": "code",
      "metadata": {
        "id": "1Ncm3BXIxUE3"
      },
      "source": [
        "import os\n",
        "Root = \"/content/drive/MyDrive/AML Project\"\n",
        "os.chdir(Root)"
      ],
      "execution_count": null,
      "outputs": []
    },
    {
      "cell_type": "code",
      "metadata": {
        "execution": {
          "iopub.execute_input": "2021-06-24T12:25:44.470678Z",
          "iopub.status.busy": "2021-06-24T12:25:44.470224Z",
          "iopub.status.idle": "2021-06-24T12:25:44.479810Z",
          "shell.execute_reply": "2021-06-24T12:25:44.478249Z",
          "shell.execute_reply.started": "2021-06-24T12:25:44.470642Z"
        },
        "id": "Rb3qpe0ZxRDN"
      },
      "source": [
        "import pandas as pd\n",
        "import numpy as np\n",
        "import os\n",
        "import IPython.display as ipd\n",
        "import librosa\n",
        "import librosa.display\n",
        "import matplotlib.pyplot as plt\n",
        "%matplotlib inline\n",
        "\n",
        "from sklearn.metrics import make_scorer, accuracy_score\n",
        "from sklearn.metrics import precision_recall_fscore_support"
      ],
      "execution_count": null,
      "outputs": []
    },
    {
      "cell_type": "code",
      "metadata": {
        "execution": {
          "iopub.execute_input": "2021-06-24T12:25:44.959507Z",
          "iopub.status.busy": "2021-06-24T12:25:44.959086Z",
          "iopub.status.idle": "2021-06-24T12:25:45.018214Z",
          "shell.execute_reply": "2021-06-24T12:25:45.017166Z",
          "shell.execute_reply.started": "2021-06-24T12:25:44.959466Z"
        },
        "colab": {
          "base_uri": "https://localhost:8080/",
          "height": 226
        },
        "id": "-HdNI7kbxRDR",
        "outputId": "3fefca1f-afcb-4580-9344-b9cf51e120ec"
      },
      "source": [
        "audio_dataset_path='/content/drive/MyDrive/AML Project/Data/genres_original'\n",
        "metadata=pd.read_csv('/content/drive/MyDrive/AML Project/Data/features_30_sec.csv')\n",
        "metadata.head()"
      ],
      "execution_count": null,
      "outputs": [
        {
          "output_type": "execute_result",
          "data": {
            "text/html": [
              "<div>\n",
              "<style scoped>\n",
              "    .dataframe tbody tr th:only-of-type {\n",
              "        vertical-align: middle;\n",
              "    }\n",
              "\n",
              "    .dataframe tbody tr th {\n",
              "        vertical-align: top;\n",
              "    }\n",
              "\n",
              "    .dataframe thead th {\n",
              "        text-align: right;\n",
              "    }\n",
              "</style>\n",
              "<table border=\"1\" class=\"dataframe\">\n",
              "  <thead>\n",
              "    <tr style=\"text-align: right;\">\n",
              "      <th></th>\n",
              "      <th>filename</th>\n",
              "      <th>length</th>\n",
              "      <th>chroma_stft_mean</th>\n",
              "      <th>chroma_stft_var</th>\n",
              "      <th>rms_mean</th>\n",
              "      <th>rms_var</th>\n",
              "      <th>spectral_centroid_mean</th>\n",
              "      <th>spectral_centroid_var</th>\n",
              "      <th>spectral_bandwidth_mean</th>\n",
              "      <th>spectral_bandwidth_var</th>\n",
              "      <th>rolloff_mean</th>\n",
              "      <th>rolloff_var</th>\n",
              "      <th>zero_crossing_rate_mean</th>\n",
              "      <th>zero_crossing_rate_var</th>\n",
              "      <th>harmony_mean</th>\n",
              "      <th>harmony_var</th>\n",
              "      <th>perceptr_mean</th>\n",
              "      <th>perceptr_var</th>\n",
              "      <th>tempo</th>\n",
              "      <th>mfcc1_mean</th>\n",
              "      <th>mfcc1_var</th>\n",
              "      <th>mfcc2_mean</th>\n",
              "      <th>mfcc2_var</th>\n",
              "      <th>mfcc3_mean</th>\n",
              "      <th>mfcc3_var</th>\n",
              "      <th>mfcc4_mean</th>\n",
              "      <th>mfcc4_var</th>\n",
              "      <th>mfcc5_mean</th>\n",
              "      <th>mfcc5_var</th>\n",
              "      <th>mfcc6_mean</th>\n",
              "      <th>mfcc6_var</th>\n",
              "      <th>mfcc7_mean</th>\n",
              "      <th>mfcc7_var</th>\n",
              "      <th>mfcc8_mean</th>\n",
              "      <th>mfcc8_var</th>\n",
              "      <th>mfcc9_mean</th>\n",
              "      <th>mfcc9_var</th>\n",
              "      <th>mfcc10_mean</th>\n",
              "      <th>mfcc10_var</th>\n",
              "      <th>mfcc11_mean</th>\n",
              "      <th>mfcc11_var</th>\n",
              "      <th>mfcc12_mean</th>\n",
              "      <th>mfcc12_var</th>\n",
              "      <th>mfcc13_mean</th>\n",
              "      <th>mfcc13_var</th>\n",
              "      <th>mfcc14_mean</th>\n",
              "      <th>mfcc14_var</th>\n",
              "      <th>mfcc15_mean</th>\n",
              "      <th>mfcc15_var</th>\n",
              "      <th>mfcc16_mean</th>\n",
              "      <th>mfcc16_var</th>\n",
              "      <th>mfcc17_mean</th>\n",
              "      <th>mfcc17_var</th>\n",
              "      <th>mfcc18_mean</th>\n",
              "      <th>mfcc18_var</th>\n",
              "      <th>mfcc19_mean</th>\n",
              "      <th>mfcc19_var</th>\n",
              "      <th>mfcc20_mean</th>\n",
              "      <th>mfcc20_var</th>\n",
              "      <th>label</th>\n",
              "    </tr>\n",
              "  </thead>\n",
              "  <tbody>\n",
              "    <tr>\n",
              "      <th>0</th>\n",
              "      <td>blues.00000.wav</td>\n",
              "      <td>661794</td>\n",
              "      <td>0.350088</td>\n",
              "      <td>0.088757</td>\n",
              "      <td>0.130228</td>\n",
              "      <td>0.002827</td>\n",
              "      <td>1784.165850</td>\n",
              "      <td>129774.064525</td>\n",
              "      <td>2002.449060</td>\n",
              "      <td>85882.761315</td>\n",
              "      <td>3805.839606</td>\n",
              "      <td>9.015054e+05</td>\n",
              "      <td>0.083045</td>\n",
              "      <td>0.000767</td>\n",
              "      <td>-4.529724e-05</td>\n",
              "      <td>0.008172</td>\n",
              "      <td>0.000008</td>\n",
              "      <td>0.005698</td>\n",
              "      <td>123.046875</td>\n",
              "      <td>-113.570648</td>\n",
              "      <td>2564.207520</td>\n",
              "      <td>121.571793</td>\n",
              "      <td>295.913818</td>\n",
              "      <td>-19.168142</td>\n",
              "      <td>235.574432</td>\n",
              "      <td>42.366421</td>\n",
              "      <td>151.106873</td>\n",
              "      <td>-6.364664</td>\n",
              "      <td>167.934799</td>\n",
              "      <td>18.623499</td>\n",
              "      <td>89.180840</td>\n",
              "      <td>-13.704891</td>\n",
              "      <td>67.660492</td>\n",
              "      <td>15.343150</td>\n",
              "      <td>68.932579</td>\n",
              "      <td>-12.274110</td>\n",
              "      <td>82.204201</td>\n",
              "      <td>10.976572</td>\n",
              "      <td>63.386311</td>\n",
              "      <td>-8.326573</td>\n",
              "      <td>61.773094</td>\n",
              "      <td>8.803792</td>\n",
              "      <td>51.244125</td>\n",
              "      <td>-3.672300</td>\n",
              "      <td>41.217415</td>\n",
              "      <td>5.747995</td>\n",
              "      <td>40.554478</td>\n",
              "      <td>-5.162882</td>\n",
              "      <td>49.775421</td>\n",
              "      <td>0.752740</td>\n",
              "      <td>52.420910</td>\n",
              "      <td>-1.690215</td>\n",
              "      <td>36.524071</td>\n",
              "      <td>-0.408979</td>\n",
              "      <td>41.597103</td>\n",
              "      <td>-2.303523</td>\n",
              "      <td>55.062923</td>\n",
              "      <td>1.221291</td>\n",
              "      <td>46.936035</td>\n",
              "      <td>blues</td>\n",
              "    </tr>\n",
              "    <tr>\n",
              "      <th>1</th>\n",
              "      <td>blues.00001.wav</td>\n",
              "      <td>661794</td>\n",
              "      <td>0.340914</td>\n",
              "      <td>0.094980</td>\n",
              "      <td>0.095948</td>\n",
              "      <td>0.002373</td>\n",
              "      <td>1530.176679</td>\n",
              "      <td>375850.073649</td>\n",
              "      <td>2039.036516</td>\n",
              "      <td>213843.755497</td>\n",
              "      <td>3550.522098</td>\n",
              "      <td>2.977893e+06</td>\n",
              "      <td>0.056040</td>\n",
              "      <td>0.001448</td>\n",
              "      <td>1.395807e-04</td>\n",
              "      <td>0.005099</td>\n",
              "      <td>-0.000178</td>\n",
              "      <td>0.003063</td>\n",
              "      <td>67.999589</td>\n",
              "      <td>-207.501694</td>\n",
              "      <td>7764.555176</td>\n",
              "      <td>123.991264</td>\n",
              "      <td>560.259949</td>\n",
              "      <td>8.955127</td>\n",
              "      <td>572.810913</td>\n",
              "      <td>35.877647</td>\n",
              "      <td>264.506104</td>\n",
              "      <td>2.907320</td>\n",
              "      <td>279.932922</td>\n",
              "      <td>21.510466</td>\n",
              "      <td>156.477097</td>\n",
              "      <td>-8.560436</td>\n",
              "      <td>200.849182</td>\n",
              "      <td>23.370686</td>\n",
              "      <td>142.555954</td>\n",
              "      <td>-10.099661</td>\n",
              "      <td>166.108521</td>\n",
              "      <td>11.900497</td>\n",
              "      <td>104.358612</td>\n",
              "      <td>-5.555639</td>\n",
              "      <td>105.173630</td>\n",
              "      <td>5.376327</td>\n",
              "      <td>96.197212</td>\n",
              "      <td>-2.231760</td>\n",
              "      <td>64.914291</td>\n",
              "      <td>4.220140</td>\n",
              "      <td>73.152534</td>\n",
              "      <td>-6.012148</td>\n",
              "      <td>52.422142</td>\n",
              "      <td>0.927998</td>\n",
              "      <td>55.356403</td>\n",
              "      <td>-0.731125</td>\n",
              "      <td>60.314529</td>\n",
              "      <td>0.295073</td>\n",
              "      <td>48.120598</td>\n",
              "      <td>-0.283518</td>\n",
              "      <td>51.106190</td>\n",
              "      <td>0.531217</td>\n",
              "      <td>45.786282</td>\n",
              "      <td>blues</td>\n",
              "    </tr>\n",
              "    <tr>\n",
              "      <th>2</th>\n",
              "      <td>blues.00002.wav</td>\n",
              "      <td>661794</td>\n",
              "      <td>0.363637</td>\n",
              "      <td>0.085275</td>\n",
              "      <td>0.175570</td>\n",
              "      <td>0.002746</td>\n",
              "      <td>1552.811865</td>\n",
              "      <td>156467.643368</td>\n",
              "      <td>1747.702312</td>\n",
              "      <td>76254.192257</td>\n",
              "      <td>3042.260232</td>\n",
              "      <td>7.840345e+05</td>\n",
              "      <td>0.076291</td>\n",
              "      <td>0.001007</td>\n",
              "      <td>2.105576e-06</td>\n",
              "      <td>0.016342</td>\n",
              "      <td>-0.000019</td>\n",
              "      <td>0.007458</td>\n",
              "      <td>161.499023</td>\n",
              "      <td>-90.722595</td>\n",
              "      <td>3319.044922</td>\n",
              "      <td>140.446304</td>\n",
              "      <td>508.765045</td>\n",
              "      <td>-29.093889</td>\n",
              "      <td>411.781219</td>\n",
              "      <td>31.684334</td>\n",
              "      <td>144.090317</td>\n",
              "      <td>-13.984504</td>\n",
              "      <td>155.493759</td>\n",
              "      <td>25.764742</td>\n",
              "      <td>74.548401</td>\n",
              "      <td>-13.664875</td>\n",
              "      <td>106.981827</td>\n",
              "      <td>11.639934</td>\n",
              "      <td>106.574875</td>\n",
              "      <td>-11.783643</td>\n",
              "      <td>65.447945</td>\n",
              "      <td>9.718760</td>\n",
              "      <td>67.908859</td>\n",
              "      <td>-13.133803</td>\n",
              "      <td>57.781425</td>\n",
              "      <td>5.791199</td>\n",
              "      <td>64.480209</td>\n",
              "      <td>-8.907628</td>\n",
              "      <td>60.385151</td>\n",
              "      <td>-1.077000</td>\n",
              "      <td>57.711136</td>\n",
              "      <td>-9.229274</td>\n",
              "      <td>36.580986</td>\n",
              "      <td>2.451690</td>\n",
              "      <td>40.598766</td>\n",
              "      <td>-7.729093</td>\n",
              "      <td>47.639427</td>\n",
              "      <td>-1.816407</td>\n",
              "      <td>52.382141</td>\n",
              "      <td>-3.439720</td>\n",
              "      <td>46.639660</td>\n",
              "      <td>-2.231258</td>\n",
              "      <td>30.573025</td>\n",
              "      <td>blues</td>\n",
              "    </tr>\n",
              "    <tr>\n",
              "      <th>3</th>\n",
              "      <td>blues.00003.wav</td>\n",
              "      <td>661794</td>\n",
              "      <td>0.404785</td>\n",
              "      <td>0.093999</td>\n",
              "      <td>0.141093</td>\n",
              "      <td>0.006346</td>\n",
              "      <td>1070.106615</td>\n",
              "      <td>184355.942417</td>\n",
              "      <td>1596.412872</td>\n",
              "      <td>166441.494769</td>\n",
              "      <td>2184.745799</td>\n",
              "      <td>1.493194e+06</td>\n",
              "      <td>0.033309</td>\n",
              "      <td>0.000423</td>\n",
              "      <td>4.583644e-07</td>\n",
              "      <td>0.019054</td>\n",
              "      <td>-0.000014</td>\n",
              "      <td>0.002712</td>\n",
              "      <td>63.024009</td>\n",
              "      <td>-199.544205</td>\n",
              "      <td>5507.517090</td>\n",
              "      <td>150.090897</td>\n",
              "      <td>456.505402</td>\n",
              "      <td>5.662678</td>\n",
              "      <td>257.161163</td>\n",
              "      <td>26.859079</td>\n",
              "      <td>158.267303</td>\n",
              "      <td>1.771399</td>\n",
              "      <td>268.034393</td>\n",
              "      <td>14.234031</td>\n",
              "      <td>126.794128</td>\n",
              "      <td>-4.832006</td>\n",
              "      <td>155.912079</td>\n",
              "      <td>9.286494</td>\n",
              "      <td>81.273743</td>\n",
              "      <td>-0.759186</td>\n",
              "      <td>92.114090</td>\n",
              "      <td>8.137607</td>\n",
              "      <td>71.314079</td>\n",
              "      <td>-3.200653</td>\n",
              "      <td>110.236687</td>\n",
              "      <td>6.079319</td>\n",
              "      <td>48.251999</td>\n",
              "      <td>-2.480174</td>\n",
              "      <td>56.799400</td>\n",
              "      <td>-1.079305</td>\n",
              "      <td>62.289902</td>\n",
              "      <td>-2.870789</td>\n",
              "      <td>51.651592</td>\n",
              "      <td>0.780874</td>\n",
              "      <td>44.427753</td>\n",
              "      <td>-3.319597</td>\n",
              "      <td>50.206673</td>\n",
              "      <td>0.636965</td>\n",
              "      <td>37.319130</td>\n",
              "      <td>-0.619121</td>\n",
              "      <td>37.259739</td>\n",
              "      <td>-3.407448</td>\n",
              "      <td>31.949339</td>\n",
              "      <td>blues</td>\n",
              "    </tr>\n",
              "    <tr>\n",
              "      <th>4</th>\n",
              "      <td>blues.00004.wav</td>\n",
              "      <td>661794</td>\n",
              "      <td>0.308526</td>\n",
              "      <td>0.087841</td>\n",
              "      <td>0.091529</td>\n",
              "      <td>0.002303</td>\n",
              "      <td>1835.004266</td>\n",
              "      <td>343399.939274</td>\n",
              "      <td>1748.172116</td>\n",
              "      <td>88445.209036</td>\n",
              "      <td>3579.757627</td>\n",
              "      <td>1.572978e+06</td>\n",
              "      <td>0.101461</td>\n",
              "      <td>0.001954</td>\n",
              "      <td>-1.756129e-05</td>\n",
              "      <td>0.004814</td>\n",
              "      <td>-0.000010</td>\n",
              "      <td>0.003094</td>\n",
              "      <td>135.999178</td>\n",
              "      <td>-160.337708</td>\n",
              "      <td>5195.291992</td>\n",
              "      <td>126.219635</td>\n",
              "      <td>853.784729</td>\n",
              "      <td>-35.587811</td>\n",
              "      <td>333.792938</td>\n",
              "      <td>22.148071</td>\n",
              "      <td>193.456100</td>\n",
              "      <td>-32.478600</td>\n",
              "      <td>336.276825</td>\n",
              "      <td>10.852294</td>\n",
              "      <td>134.831573</td>\n",
              "      <td>-23.352329</td>\n",
              "      <td>93.257095</td>\n",
              "      <td>0.498434</td>\n",
              "      <td>124.672127</td>\n",
              "      <td>-11.793437</td>\n",
              "      <td>130.073349</td>\n",
              "      <td>1.207256</td>\n",
              "      <td>99.675575</td>\n",
              "      <td>-13.088418</td>\n",
              "      <td>80.254066</td>\n",
              "      <td>-2.813867</td>\n",
              "      <td>86.430626</td>\n",
              "      <td>-6.933385</td>\n",
              "      <td>89.555443</td>\n",
              "      <td>-7.552725</td>\n",
              "      <td>70.943336</td>\n",
              "      <td>-9.164666</td>\n",
              "      <td>75.793404</td>\n",
              "      <td>-4.520576</td>\n",
              "      <td>86.099236</td>\n",
              "      <td>-5.454034</td>\n",
              "      <td>75.269707</td>\n",
              "      <td>-0.916874</td>\n",
              "      <td>53.613918</td>\n",
              "      <td>-4.404827</td>\n",
              "      <td>62.910812</td>\n",
              "      <td>-11.703234</td>\n",
              "      <td>55.195160</td>\n",
              "      <td>blues</td>\n",
              "    </tr>\n",
              "  </tbody>\n",
              "</table>\n",
              "</div>"
            ],
            "text/plain": [
              "          filename  length  chroma_stft_mean  ...  mfcc20_mean  mfcc20_var  label\n",
              "0  blues.00000.wav  661794          0.350088  ...     1.221291   46.936035  blues\n",
              "1  blues.00001.wav  661794          0.340914  ...     0.531217   45.786282  blues\n",
              "2  blues.00002.wav  661794          0.363637  ...    -2.231258   30.573025  blues\n",
              "3  blues.00003.wav  661794          0.404785  ...    -3.407448   31.949339  blues\n",
              "4  blues.00004.wav  661794          0.308526  ...   -11.703234   55.195160  blues\n",
              "\n",
              "[5 rows x 60 columns]"
            ]
          },
          "metadata": {},
          "execution_count": 4
        }
      ]
    },
    {
      "cell_type": "markdown",
      "metadata": {
        "id": "NAGWSEUJBK8q"
      },
      "source": [
        "**Feature Extractor Function**\n",
        "\n",
        "Mel Frequency Cepstral Coefficients:\n",
        "\n",
        "These are state-of-the-art features used in automatic speech and speech recognition studies. There are a set of steps for generation of these features:\n",
        "\n",
        "Since the audio signals are constantly changing, first we divide these signals into smaller frames. Each frame is around 20-40 ms long\n",
        "Then we try to identify different frequencies present in each frame\n",
        "Now, separate linguistic frequencies from the noise\n",
        "To discard the noise, it then takes discrete cosine transform (DCT) of these frequencies. Using DCT we keep only a specific sequence of frequencies that have a high probability of information."
      ]
    },
    {
      "cell_type": "code",
      "metadata": {
        "execution": {
          "iopub.execute_input": "2021-06-24T12:26:31.840546Z",
          "iopub.status.busy": "2021-06-24T12:26:31.840099Z",
          "iopub.status.idle": "2021-06-24T12:26:31.846431Z",
          "shell.execute_reply": "2021-06-24T12:26:31.845304Z",
          "shell.execute_reply.started": "2021-06-24T12:26:31.840506Z"
        },
        "id": "PjPzMgEXxRDT"
      },
      "source": [
        "def features_extractor(file):\n",
        "    audio, sample_rate = librosa.load(file_name, res_type='kaiser_fast') \n",
        "    mfccs_features = librosa.feature.mfcc(y=audio, sr=sample_rate, n_mfcc=40)\n",
        "    mfccs_scaled_features = np.mean(mfccs_features.T,axis=0)\n",
        "    \n",
        "    return mfccs_scaled_features"
      ],
      "execution_count": null,
      "outputs": []
    },
    {
      "cell_type": "code",
      "metadata": {
        "execution": {
          "iopub.execute_input": "2021-06-24T12:21:39.755837Z",
          "iopub.status.busy": "2021-06-24T12:21:39.755387Z",
          "iopub.status.idle": "2021-06-24T12:21:39.763397Z",
          "shell.execute_reply": "2021-06-24T12:21:39.762125Z",
          "shell.execute_reply.started": "2021-06-24T12:21:39.755800Z"
        },
        "id": "L-O0cGJmxRDT"
      },
      "source": [
        "# metadata.drop(labels=552, axis=0, inplace=True)"
      ],
      "execution_count": null,
      "outputs": []
    },
    {
      "cell_type": "code",
      "metadata": {
        "execution": {
          "iopub.execute_input": "2021-06-24T12:29:00.846219Z",
          "iopub.status.busy": "2021-06-24T12:29:00.845804Z",
          "iopub.status.idle": "2021-06-24T12:30:43.928238Z",
          "shell.execute_reply": "2021-06-24T12:30:43.926824Z",
          "shell.execute_reply.started": "2021-06-24T12:29:00.846178Z"
        },
        "colab": {
          "base_uri": "https://localhost:8080/"
        },
        "id": "cFb6b6RlxRDU",
        "outputId": "a862780b-ff32-4b6a-eb9a-5fce11550830"
      },
      "source": [
        "from tqdm import tqdm\n",
        "### Now we iterate through every audio file and extract features \n",
        "### using Mel-Frequency Cepstral Coefficients\n",
        "\n",
        "extracted_features=[]\n",
        "for index_num,row in tqdm(metadata.iterrows()):\n",
        "    try:\n",
        "        final_class_labels=row[\"label\"]\n",
        "        file_name = os.path.join(os.path.abspath(audio_dataset_path), final_class_labels+'/',str(row[\"filename\"]))    \n",
        "        data=features_extractor(file_name)\n",
        "        extracted_features.append([data,final_class_labels])\n",
        "    except Exception as e:\n",
        "        print(f\"Error: {e}\")\n",
        "        continue"
      ],
      "execution_count": null,
      "outputs": [
        {
          "output_type": "stream",
          "name": "stderr",
          "text": [
            "553it [00:52, 10.64it/s]/usr/local/lib/python3.7/dist-packages/librosa/core/audio.py:165: UserWarning: PySoundFile failed. Trying audioread instead.\n",
            "  warnings.warn(\"PySoundFile failed. Trying audioread instead.\")\n",
            "557it [00:52, 10.63it/s]"
          ]
        },
        {
          "output_type": "stream",
          "name": "stdout",
          "text": [
            "Error: [Errno 2] No such file or directory: '/content/drive/MyDrive/AML Project/Data/genres_original/jazz/jazz.00054.wav'\n"
          ]
        },
        {
          "output_type": "stream",
          "name": "stderr",
          "text": [
            "1000it [01:34, 10.60it/s]\n"
          ]
        }
      ]
    },
    {
      "cell_type": "code",
      "metadata": {
        "execution": {
          "iopub.execute_input": "2021-06-24T12:31:05.116258Z",
          "iopub.status.busy": "2021-06-24T12:31:05.115494Z",
          "iopub.status.idle": "2021-06-24T12:31:05.138145Z",
          "shell.execute_reply": "2021-06-24T12:31:05.136850Z",
          "shell.execute_reply.started": "2021-06-24T12:31:05.116214Z"
        },
        "colab": {
          "base_uri": "https://localhost:8080/",
          "height": 206
        },
        "id": "A8r5vv2mxRDV",
        "outputId": "1fa6875c-ddea-4d56-e80d-f6c9d6e44cc0"
      },
      "source": [
        "### converting extracted_features to Pandas dataframe\n",
        "extracted_features_df=pd.DataFrame(extracted_features,columns=['feature','class'])\n",
        "extracted_features_df.head()"
      ],
      "execution_count": null,
      "outputs": [
        {
          "output_type": "execute_result",
          "data": {
            "text/html": [
              "<div>\n",
              "<style scoped>\n",
              "    .dataframe tbody tr th:only-of-type {\n",
              "        vertical-align: middle;\n",
              "    }\n",
              "\n",
              "    .dataframe tbody tr th {\n",
              "        vertical-align: top;\n",
              "    }\n",
              "\n",
              "    .dataframe thead th {\n",
              "        text-align: right;\n",
              "    }\n",
              "</style>\n",
              "<table border=\"1\" class=\"dataframe\">\n",
              "  <thead>\n",
              "    <tr style=\"text-align: right;\">\n",
              "      <th></th>\n",
              "      <th>feature</th>\n",
              "      <th>class</th>\n",
              "    </tr>\n",
              "  </thead>\n",
              "  <tbody>\n",
              "    <tr>\n",
              "      <th>0</th>\n",
              "      <td>[-113.57065, 121.57179, -19.168142, 42.36642, ...</td>\n",
              "      <td>blues</td>\n",
              "    </tr>\n",
              "    <tr>\n",
              "      <th>1</th>\n",
              "      <td>[-207.5017, 123.991264, 8.955127, 35.87765, 2....</td>\n",
              "      <td>blues</td>\n",
              "    </tr>\n",
              "    <tr>\n",
              "      <th>2</th>\n",
              "      <td>[-90.722595, 140.4463, -29.09389, 31.684334, -...</td>\n",
              "      <td>blues</td>\n",
              "    </tr>\n",
              "    <tr>\n",
              "      <th>3</th>\n",
              "      <td>[-199.5442, 150.09091, 5.6626782, 26.85908, 1....</td>\n",
              "      <td>blues</td>\n",
              "    </tr>\n",
              "    <tr>\n",
              "      <th>4</th>\n",
              "      <td>[-160.3377, 126.219635, -35.58781, 22.148071, ...</td>\n",
              "      <td>blues</td>\n",
              "    </tr>\n",
              "  </tbody>\n",
              "</table>\n",
              "</div>"
            ],
            "text/plain": [
              "                                             feature  class\n",
              "0  [-113.57065, 121.57179, -19.168142, 42.36642, ...  blues\n",
              "1  [-207.5017, 123.991264, 8.955127, 35.87765, 2....  blues\n",
              "2  [-90.722595, 140.4463, -29.09389, 31.684334, -...  blues\n",
              "3  [-199.5442, 150.09091, 5.6626782, 26.85908, 1....  blues\n",
              "4  [-160.3377, 126.219635, -35.58781, 22.148071, ...  blues"
            ]
          },
          "metadata": {},
          "execution_count": 8
        }
      ]
    },
    {
      "cell_type": "code",
      "metadata": {
        "execution": {
          "iopub.execute_input": "2021-06-24T12:31:11.780278Z",
          "iopub.status.busy": "2021-06-24T12:31:11.779913Z",
          "iopub.status.idle": "2021-06-24T12:31:11.788379Z",
          "shell.execute_reply": "2021-06-24T12:31:11.787239Z",
          "shell.execute_reply.started": "2021-06-24T12:31:11.780247Z"
        },
        "colab": {
          "base_uri": "https://localhost:8080/"
        },
        "id": "URz5BuQcxRDW",
        "outputId": "d220b795-e095-404b-db54-7d369d08e614"
      },
      "source": [
        "extracted_features_df['class'].value_counts()"
      ],
      "execution_count": null,
      "outputs": [
        {
          "output_type": "execute_result",
          "data": {
            "text/plain": [
              "rock         100\n",
              "disco        100\n",
              "reggae       100\n",
              "blues        100\n",
              "pop          100\n",
              "metal        100\n",
              "hiphop       100\n",
              "country      100\n",
              "classical    100\n",
              "jazz          99\n",
              "Name: class, dtype: int64"
            ]
          },
          "metadata": {},
          "execution_count": 9
        }
      ]
    },
    {
      "cell_type": "markdown",
      "metadata": {
        "id": "ydSt_1CFAN7g"
      },
      "source": [
        "**Split the dataset into independent and dependent dataset**"
      ]
    },
    {
      "cell_type": "code",
      "metadata": {
        "execution": {
          "iopub.execute_input": "2021-06-24T12:31:37.155436Z",
          "iopub.status.busy": "2021-06-24T12:31:37.154993Z",
          "iopub.status.idle": "2021-06-24T12:31:37.161979Z",
          "shell.execute_reply": "2021-06-24T12:31:37.161129Z",
          "shell.execute_reply.started": "2021-06-24T12:31:37.155398Z"
        },
        "id": "-3CmI4OxxRDW"
      },
      "source": [
        "X=np.array(extracted_features_df['feature'].tolist())\n",
        "y=np.array(extracted_features_df['class'].tolist())"
      ],
      "execution_count": null,
      "outputs": []
    },
    {
      "cell_type": "code",
      "metadata": {
        "execution": {
          "iopub.execute_input": "2021-06-24T12:31:50.855321Z",
          "iopub.status.busy": "2021-06-24T12:31:50.854733Z",
          "iopub.status.idle": "2021-06-24T12:31:50.861701Z",
          "shell.execute_reply": "2021-06-24T12:31:50.860387Z",
          "shell.execute_reply.started": "2021-06-24T12:31:50.855285Z"
        },
        "colab": {
          "base_uri": "https://localhost:8080/"
        },
        "id": "PFqJWNBmxRDX",
        "outputId": "948069c0-df4b-4d52-83e7-fdbbdfd658ab"
      },
      "source": [
        "X.shape"
      ],
      "execution_count": null,
      "outputs": [
        {
          "output_type": "execute_result",
          "data": {
            "text/plain": [
              "(999, 40)"
            ]
          },
          "metadata": {},
          "execution_count": 11
        }
      ]
    },
    {
      "cell_type": "code",
      "metadata": {
        "execution": {
          "iopub.execute_input": "2021-06-24T12:32:06.400042Z",
          "iopub.status.busy": "2021-06-24T12:32:06.399679Z",
          "iopub.status.idle": "2021-06-24T12:32:06.408551Z",
          "shell.execute_reply": "2021-06-24T12:32:06.407550Z",
          "shell.execute_reply.started": "2021-06-24T12:32:06.400013Z"
        },
        "id": "iyXQuBxaxRDX"
      },
      "source": [
        "from tensorflow.keras.utils import to_categorical\n",
        "from sklearn.preprocessing import LabelEncoder\n",
        "labelencoder=LabelEncoder()\n",
        "y=to_categorical(labelencoder.fit_transform(y))"
      ],
      "execution_count": null,
      "outputs": []
    },
    {
      "cell_type": "code",
      "metadata": {
        "execution": {
          "iopub.execute_input": "2021-06-24T12:32:15.080430Z",
          "iopub.status.busy": "2021-06-24T12:32:15.080021Z",
          "iopub.status.idle": "2021-06-24T12:32:15.087480Z",
          "shell.execute_reply": "2021-06-24T12:32:15.086162Z",
          "shell.execute_reply.started": "2021-06-24T12:32:15.080396Z"
        },
        "colab": {
          "base_uri": "https://localhost:8080/"
        },
        "id": "zskm3UCbxRDX",
        "outputId": "f4d88b60-332d-4161-fdda-c73dbf741e5b"
      },
      "source": [
        "y.shape"
      ],
      "execution_count": null,
      "outputs": [
        {
          "output_type": "execute_result",
          "data": {
            "text/plain": [
              "(999, 10)"
            ]
          },
          "metadata": {},
          "execution_count": 13
        }
      ]
    },
    {
      "cell_type": "markdown",
      "metadata": {
        "id": "vHNPVn4tAVrN"
      },
      "source": [
        "**Train Test Split**"
      ]
    },
    {
      "cell_type": "code",
      "metadata": {
        "execution": {
          "iopub.execute_input": "2021-06-24T12:48:04.747288Z",
          "iopub.status.busy": "2021-06-24T12:48:04.746866Z",
          "iopub.status.idle": "2021-06-24T12:48:04.755032Z",
          "shell.execute_reply": "2021-06-24T12:48:04.754019Z",
          "shell.execute_reply.started": "2021-06-24T12:48:04.747252Z"
        },
        "id": "xaQrsxaDxRDY"
      },
      "source": [
        "from sklearn.model_selection import train_test_split\n",
        "X_train,X_test,y_train,y_test=train_test_split(X,y,test_size=0.2,random_state=0)"
      ],
      "execution_count": null,
      "outputs": []
    },
    {
      "cell_type": "code",
      "metadata": {
        "execution": {
          "iopub.execute_input": "2021-06-24T12:48:12.432998Z",
          "iopub.status.busy": "2021-06-24T12:48:12.432561Z",
          "iopub.status.idle": "2021-06-24T12:48:12.440370Z",
          "shell.execute_reply": "2021-06-24T12:48:12.439535Z",
          "shell.execute_reply.started": "2021-06-24T12:48:12.432961Z"
        },
        "colab": {
          "base_uri": "https://localhost:8080/"
        },
        "id": "KTR2QCktxRDY",
        "outputId": "fa9e5010-ac54-4a8a-d1d2-24eb62fd8c0c"
      },
      "source": [
        "X_train"
      ],
      "execution_count": null,
      "outputs": [
        {
          "output_type": "execute_result",
          "data": {
            "text/plain": [
              "array([[ 2.67117920e+01,  7.97894287e+01, -5.20517769e+01, ...,\n",
              "        -1.43984926e+00, -1.27259743e+00, -5.90781355e+00],\n",
              "       [-1.44929214e+02,  1.18459854e+02,  2.05253220e+01, ...,\n",
              "         1.89384019e+00, -1.88978815e+00, -1.85136843e+00],\n",
              "       [-6.60630646e+01,  9.78820724e+01, -1.88321342e+01, ...,\n",
              "        -1.23837304e+00, -6.33012116e-01, -1.33665276e+00],\n",
              "       ...,\n",
              "       [-7.74571762e+01,  1.30936478e+02, -2.33290615e+01, ...,\n",
              "        -4.20865250e+00, -3.52202845e+00,  2.60719037e+00],\n",
              "       [-1.90423065e+02,  1.29542053e+02, -7.84552956e+00, ...,\n",
              "        -2.24016356e+00, -3.98439646e+00, -1.98053861e+00],\n",
              "       [-4.65721245e+01,  8.68102798e+01, -3.47887421e+01, ...,\n",
              "         1.48847297e-01,  9.24574316e-01, -8.69751930e-01]], dtype=float32)"
            ]
          },
          "metadata": {},
          "execution_count": 15
        }
      ]
    },
    {
      "cell_type": "code",
      "metadata": {
        "execution": {
          "iopub.execute_input": "2021-06-24T12:49:00.202747Z",
          "iopub.status.busy": "2021-06-24T12:49:00.202289Z",
          "iopub.status.idle": "2021-06-24T12:49:00.209534Z",
          "shell.execute_reply": "2021-06-24T12:49:00.208313Z",
          "shell.execute_reply.started": "2021-06-24T12:49:00.202710Z"
        },
        "colab": {
          "base_uri": "https://localhost:8080/"
        },
        "id": "281ZfFk4xRDZ",
        "outputId": "5179f615-3bdb-4688-f7ca-f0e1b9ce55aa"
      },
      "source": [
        "print(X_train.shape)\n",
        "print(X_test.shape)\n",
        "print(y_train.shape)\n",
        "print(y_test.shape)"
      ],
      "execution_count": null,
      "outputs": [
        {
          "output_type": "stream",
          "name": "stdout",
          "text": [
            "(799, 40)\n",
            "(200, 40)\n",
            "(799, 10)\n",
            "(200, 10)\n"
          ]
        }
      ]
    },
    {
      "cell_type": "code",
      "metadata": {
        "execution": {
          "iopub.execute_input": "2021-06-24T12:38:50.435667Z",
          "iopub.status.busy": "2021-06-24T12:38:50.435159Z",
          "iopub.status.idle": "2021-06-24T12:38:56.030604Z",
          "shell.execute_reply": "2021-06-24T12:38:56.029138Z",
          "shell.execute_reply.started": "2021-06-24T12:38:50.435628Z"
        },
        "colab": {
          "base_uri": "https://localhost:8080/"
        },
        "id": "E8-4uAo5xRDZ",
        "outputId": "0a2e9355-fb60-4f2e-d864-836a96ef78b1"
      },
      "source": [
        "import tensorflow as tf\n",
        "print(tf.__version__)"
      ],
      "execution_count": null,
      "outputs": [
        {
          "output_type": "stream",
          "name": "stdout",
          "text": [
            "2.7.0\n"
          ]
        }
      ]
    },
    {
      "cell_type": "code",
      "metadata": {
        "execution": {
          "iopub.execute_input": "2021-06-24T12:39:01.466860Z",
          "iopub.status.busy": "2021-06-24T12:39:01.466466Z",
          "iopub.status.idle": "2021-06-24T12:39:01.471687Z",
          "shell.execute_reply": "2021-06-24T12:39:01.470823Z",
          "shell.execute_reply.started": "2021-06-24T12:39:01.466828Z"
        },
        "id": "Cq0U-hs9xRDZ"
      },
      "source": [
        "from tensorflow.keras.models import Sequential\n",
        "from tensorflow.keras.layers import Dense,Dropout,Activation,Flatten\n",
        "from tensorflow.keras.optimizers import Adam\n",
        "from sklearn import metrics"
      ],
      "execution_count": null,
      "outputs": []
    },
    {
      "cell_type": "code",
      "metadata": {
        "execution": {
          "iopub.execute_input": "2021-06-24T12:39:09.810915Z",
          "iopub.status.busy": "2021-06-24T12:39:09.810299Z",
          "iopub.status.idle": "2021-06-24T12:39:09.815716Z",
          "shell.execute_reply": "2021-06-24T12:39:09.814269Z",
          "shell.execute_reply.started": "2021-06-24T12:39:09.810861Z"
        },
        "id": "lJ_9wuW5xRDa"
      },
      "source": [
        "### No of classes\n",
        "num_labels=y.shape[1]"
      ],
      "execution_count": null,
      "outputs": []
    },
    {
      "cell_type": "code",
      "metadata": {
        "colab": {
          "base_uri": "https://localhost:8080/"
        },
        "id": "egHQq8FdYmy-",
        "outputId": "a0194a08-b703-4d07-900b-40e11f529d7a"
      },
      "source": [
        "y.shape[1]"
      ],
      "execution_count": null,
      "outputs": [
        {
          "output_type": "execute_result",
          "data": {
            "text/plain": [
              "10"
            ]
          },
          "metadata": {},
          "execution_count": 20
        }
      ]
    },
    {
      "cell_type": "code",
      "metadata": {
        "execution": {
          "iopub.execute_input": "2021-06-24T12:47:10.103325Z",
          "iopub.status.busy": "2021-06-24T12:47:10.102561Z",
          "iopub.status.idle": "2021-06-24T12:47:10.248071Z",
          "shell.execute_reply": "2021-06-24T12:47:10.246816Z",
          "shell.execute_reply.started": "2021-06-24T12:47:10.103267Z"
        },
        "id": "AjueidgQxRDa"
      },
      "source": [
        "model=Sequential()\n",
        "model.add(Dense(2048,input_shape=(40,),activation='relu'))\n",
        "model.add(Dropout(0.3))\n",
        "model.add(Dense(1024, activation=\"relu\"))\n",
        "model.add(Dropout(0.3))\n",
        "model.add(Dense(512, activation=\"relu\"))\n",
        "model.add(Dropout(0.3))\n",
        "model.add(Dense(256, activation=\"relu\"))\n",
        "model.add(Dropout(0.3))\n",
        "model.add(Dense(128, activation=\"relu\"))\n",
        "model.add(Dropout(0.3))\n",
        "model.add(Dense(64, activation=\"relu\"))\n",
        "model.add(Dropout(0.3))\n",
        "model.add(Dense(32, activation=\"relu\"))\n",
        "model.add(Dropout(0.3))\n",
        "\n",
        "###final layer\n",
        "model.add(Dense(num_labels, activation=\"softmax\"))"
      ],
      "execution_count": null,
      "outputs": []
    },
    {
      "cell_type": "code",
      "metadata": {
        "execution": {
          "iopub.execute_input": "2021-06-24T12:49:48.845534Z",
          "iopub.status.busy": "2021-06-24T12:49:48.845111Z",
          "iopub.status.idle": "2021-06-24T12:49:48.860859Z",
          "shell.execute_reply": "2021-06-24T12:49:48.859803Z",
          "shell.execute_reply.started": "2021-06-24T12:49:48.845495Z"
        },
        "colab": {
          "base_uri": "https://localhost:8080/"
        },
        "id": "N9eQ2vGLxRDa",
        "outputId": "ae3387fb-1151-4e56-ca75-21cf7802f013"
      },
      "source": [
        "model.summary()"
      ],
      "execution_count": null,
      "outputs": [
        {
          "output_type": "stream",
          "name": "stdout",
          "text": [
            "Model: \"sequential\"\n",
            "_________________________________________________________________\n",
            " Layer (type)                Output Shape              Param #   \n",
            "=================================================================\n",
            " dense (Dense)               (None, 2048)              83968     \n",
            "                                                                 \n",
            " dropout (Dropout)           (None, 2048)              0         \n",
            "                                                                 \n",
            " dense_1 (Dense)             (None, 1024)              2098176   \n",
            "                                                                 \n",
            " dropout_1 (Dropout)         (None, 1024)              0         \n",
            "                                                                 \n",
            " dense_2 (Dense)             (None, 512)               524800    \n",
            "                                                                 \n",
            " dropout_2 (Dropout)         (None, 512)               0         \n",
            "                                                                 \n",
            " dense_3 (Dense)             (None, 256)               131328    \n",
            "                                                                 \n",
            " dropout_3 (Dropout)         (None, 256)               0         \n",
            "                                                                 \n",
            " dense_4 (Dense)             (None, 128)               32896     \n",
            "                                                                 \n",
            " dropout_4 (Dropout)         (None, 128)               0         \n",
            "                                                                 \n",
            " dense_5 (Dense)             (None, 64)                8256      \n",
            "                                                                 \n",
            " dropout_5 (Dropout)         (None, 64)                0         \n",
            "                                                                 \n",
            " dense_6 (Dense)             (None, 32)                2080      \n",
            "                                                                 \n",
            " dropout_6 (Dropout)         (None, 32)                0         \n",
            "                                                                 \n",
            " dense_7 (Dense)             (None, 10)                330       \n",
            "                                                                 \n",
            "=================================================================\n",
            "Total params: 2,881,834\n",
            "Trainable params: 2,881,834\n",
            "Non-trainable params: 0\n",
            "_________________________________________________________________\n"
          ]
        }
      ]
    },
    {
      "cell_type": "code",
      "metadata": {
        "execution": {
          "iopub.execute_input": "2021-06-24T12:49:58.593476Z",
          "iopub.status.busy": "2021-06-24T12:49:58.593043Z",
          "iopub.status.idle": "2021-06-24T12:49:58.613245Z",
          "shell.execute_reply": "2021-06-24T12:49:58.612126Z",
          "shell.execute_reply.started": "2021-06-24T12:49:58.593439Z"
        },
        "id": "PabF0zEdxRDb"
      },
      "source": [
        "model.compile(loss='categorical_crossentropy',metrics=['accuracy'],optimizer='adam')"
      ],
      "execution_count": null,
      "outputs": []
    },
    {
      "cell_type": "code",
      "metadata": {
        "id": "B0f0IY3d4xG8"
      },
      "source": [
        "import time\n",
        "t = time.localtime()\n",
        "current_time = time.strftime(\"%H:%M:%S\", t)"
      ],
      "execution_count": null,
      "outputs": []
    },
    {
      "cell_type": "code",
      "metadata": {
        "execution": {
          "iopub.execute_input": "2021-06-24T12:53:47.508599Z",
          "iopub.status.busy": "2021-06-24T12:53:47.508200Z",
          "iopub.status.idle": "2021-06-24T12:54:06.613096Z",
          "shell.execute_reply": "2021-06-24T12:54:06.611613Z",
          "shell.execute_reply.started": "2021-06-24T12:53:47.508546Z"
        },
        "colab": {
          "base_uri": "https://localhost:8080/"
        },
        "id": "NxrtNNvBxRDb",
        "outputId": "9ee815b0-4beb-4868-f398-64dbc5b7026e"
      },
      "source": [
        "## Trianing my model\n",
        "from tensorflow.keras.callbacks import ModelCheckpoint\n",
        "from datetime import datetime \n",
        "\n",
        "num_epochs = 100\n",
        "num_batch_size = 32\n",
        "\n",
        "checkpointer = ModelCheckpoint(filepath=f'saved_models/audio_classification_{current_time}.hdf5', \n",
        "                               verbose=1, save_best_only=True)\n",
        "start = datetime.now()\n",
        "\n",
        "history = model.fit(X_train, y_train, batch_size=num_batch_size, epochs=num_epochs, validation_data=(X_test, y_test), callbacks=[checkpointer], verbose=1)\n",
        "\n",
        "\n",
        "duration = datetime.now() - start\n",
        "print(\"Training completed in time: \", duration)"
      ],
      "execution_count": null,
      "outputs": [
        {
          "output_type": "stream",
          "name": "stdout",
          "text": [
            "Epoch 1/100\n",
            "25/25 [==============================] - ETA: 0s - loss: 4.7485 - accuracy: 0.1101\n",
            "Epoch 00001: val_loss improved from inf to 2.30904, saving model to saved_models/audio_classification_07:02:18.hdf5\n",
            "25/25 [==============================] - 2s 52ms/step - loss: 4.7485 - accuracy: 0.1101 - val_loss: 2.3090 - val_accuracy: 0.1450\n",
            "Epoch 2/100\n",
            "25/25 [==============================] - ETA: 0s - loss: 2.6039 - accuracy: 0.1214\n",
            "Epoch 00002: val_loss improved from 2.30904 to 2.29041, saving model to saved_models/audio_classification_07:02:18.hdf5\n",
            "25/25 [==============================] - 1s 43ms/step - loss: 2.6039 - accuracy: 0.1214 - val_loss: 2.2904 - val_accuracy: 0.1000\n",
            "Epoch 3/100\n",
            "25/25 [==============================] - ETA: 0s - loss: 2.3563 - accuracy: 0.1289\n",
            "Epoch 00003: val_loss improved from 2.29041 to 2.27808, saving model to saved_models/audio_classification_07:02:18.hdf5\n",
            "25/25 [==============================] - 1s 44ms/step - loss: 2.3563 - accuracy: 0.1289 - val_loss: 2.2781 - val_accuracy: 0.1450\n",
            "Epoch 4/100\n",
            "25/25 [==============================] - ETA: 0s - loss: 2.3283 - accuracy: 0.1277\n",
            "Epoch 00004: val_loss did not improve from 2.27808\n",
            "25/25 [==============================] - 1s 37ms/step - loss: 2.3283 - accuracy: 0.1277 - val_loss: 2.2809 - val_accuracy: 0.1650\n",
            "Epoch 5/100\n",
            "25/25 [==============================] - ETA: 0s - loss: 2.3035 - accuracy: 0.1339\n",
            "Epoch 00005: val_loss improved from 2.27808 to 2.24931, saving model to saved_models/audio_classification_07:02:18.hdf5\n",
            "25/25 [==============================] - 1s 42ms/step - loss: 2.3035 - accuracy: 0.1339 - val_loss: 2.2493 - val_accuracy: 0.1600\n",
            "Epoch 6/100\n",
            "25/25 [==============================] - ETA: 0s - loss: 2.2800 - accuracy: 0.1327\n",
            "Epoch 00006: val_loss improved from 2.24931 to 2.22171, saving model to saved_models/audio_classification_07:02:18.hdf5\n",
            "25/25 [==============================] - 1s 43ms/step - loss: 2.2800 - accuracy: 0.1327 - val_loss: 2.2217 - val_accuracy: 0.1900\n",
            "Epoch 7/100\n",
            "25/25 [==============================] - ETA: 0s - loss: 2.2376 - accuracy: 0.1615\n",
            "Epoch 00007: val_loss did not improve from 2.22171\n",
            "25/25 [==============================] - 1s 36ms/step - loss: 2.2376 - accuracy: 0.1615 - val_loss: 2.2272 - val_accuracy: 0.1900\n",
            "Epoch 8/100\n",
            "25/25 [==============================] - ETA: 0s - loss: 2.2105 - accuracy: 0.1840\n",
            "Epoch 00008: val_loss improved from 2.22171 to 2.16395, saving model to saved_models/audio_classification_07:02:18.hdf5\n",
            "25/25 [==============================] - 1s 44ms/step - loss: 2.2105 - accuracy: 0.1840 - val_loss: 2.1639 - val_accuracy: 0.2400\n",
            "Epoch 9/100\n",
            "25/25 [==============================] - ETA: 0s - loss: 2.1806 - accuracy: 0.2128\n",
            "Epoch 00009: val_loss improved from 2.16395 to 2.10926, saving model to saved_models/audio_classification_07:02:18.hdf5\n",
            "25/25 [==============================] - 1s 43ms/step - loss: 2.1806 - accuracy: 0.2128 - val_loss: 2.1093 - val_accuracy: 0.3350\n",
            "Epoch 10/100\n",
            "25/25 [==============================] - ETA: 0s - loss: 2.1210 - accuracy: 0.2416\n",
            "Epoch 00010: val_loss improved from 2.10926 to 2.10073, saving model to saved_models/audio_classification_07:02:18.hdf5\n",
            "25/25 [==============================] - 1s 51ms/step - loss: 2.1210 - accuracy: 0.2416 - val_loss: 2.1007 - val_accuracy: 0.2550\n",
            "Epoch 11/100\n",
            "25/25 [==============================] - ETA: 0s - loss: 2.0877 - accuracy: 0.2428\n",
            "Epoch 00011: val_loss improved from 2.10073 to 1.97503, saving model to saved_models/audio_classification_07:02:18.hdf5\n",
            "25/25 [==============================] - 1s 42ms/step - loss: 2.0877 - accuracy: 0.2428 - val_loss: 1.9750 - val_accuracy: 0.3050\n",
            "Epoch 12/100\n",
            "25/25 [==============================] - ETA: 0s - loss: 2.0223 - accuracy: 0.2791\n",
            "Epoch 00012: val_loss improved from 1.97503 to 1.96218, saving model to saved_models/audio_classification_07:02:18.hdf5\n",
            "25/25 [==============================] - 1s 43ms/step - loss: 2.0223 - accuracy: 0.2791 - val_loss: 1.9622 - val_accuracy: 0.3300\n",
            "Epoch 13/100\n",
            "25/25 [==============================] - ETA: 0s - loss: 2.0050 - accuracy: 0.3004\n",
            "Epoch 00013: val_loss did not improve from 1.96218\n",
            "25/25 [==============================] - 1s 35ms/step - loss: 2.0050 - accuracy: 0.3004 - val_loss: 1.9750 - val_accuracy: 0.3400\n",
            "Epoch 14/100\n",
            "25/25 [==============================] - ETA: 0s - loss: 1.9728 - accuracy: 0.3029\n",
            "Epoch 00014: val_loss improved from 1.96218 to 1.87000, saving model to saved_models/audio_classification_07:02:18.hdf5\n",
            "25/25 [==============================] - 1s 43ms/step - loss: 1.9728 - accuracy: 0.3029 - val_loss: 1.8700 - val_accuracy: 0.3050\n",
            "Epoch 15/100\n",
            "25/25 [==============================] - ETA: 0s - loss: 1.8986 - accuracy: 0.3217\n",
            "Epoch 00015: val_loss improved from 1.87000 to 1.82225, saving model to saved_models/audio_classification_07:02:18.hdf5\n",
            "25/25 [==============================] - 1s 43ms/step - loss: 1.8986 - accuracy: 0.3217 - val_loss: 1.8223 - val_accuracy: 0.3200\n",
            "Epoch 16/100\n",
            "25/25 [==============================] - ETA: 0s - loss: 1.8768 - accuracy: 0.3279\n",
            "Epoch 00016: val_loss did not improve from 1.82225\n",
            "25/25 [==============================] - 1s 36ms/step - loss: 1.8768 - accuracy: 0.3279 - val_loss: 1.8510 - val_accuracy: 0.3300\n",
            "Epoch 17/100\n",
            "25/25 [==============================] - ETA: 0s - loss: 1.9472 - accuracy: 0.2866\n",
            "Epoch 00017: val_loss did not improve from 1.82225\n",
            "25/25 [==============================] - 1s 36ms/step - loss: 1.9472 - accuracy: 0.2866 - val_loss: 1.8763 - val_accuracy: 0.3000\n",
            "Epoch 18/100\n",
            "25/25 [==============================] - ETA: 0s - loss: 1.8520 - accuracy: 0.3367\n",
            "Epoch 00018: val_loss did not improve from 1.82225\n",
            "25/25 [==============================] - 1s 37ms/step - loss: 1.8520 - accuracy: 0.3367 - val_loss: 1.8444 - val_accuracy: 0.3150\n",
            "Epoch 19/100\n",
            "25/25 [==============================] - ETA: 0s - loss: 1.8040 - accuracy: 0.3404\n",
            "Epoch 00019: val_loss did not improve from 1.82225\n",
            "25/25 [==============================] - 1s 37ms/step - loss: 1.8040 - accuracy: 0.3404 - val_loss: 1.8971 - val_accuracy: 0.3300\n",
            "Epoch 20/100\n",
            "25/25 [==============================] - ETA: 0s - loss: 1.8018 - accuracy: 0.3529\n",
            "Epoch 00020: val_loss did not improve from 1.82225\n",
            "25/25 [==============================] - 1s 36ms/step - loss: 1.8018 - accuracy: 0.3529 - val_loss: 1.9062 - val_accuracy: 0.3250\n",
            "Epoch 21/100\n",
            "24/25 [===========================>..] - ETA: 0s - loss: 1.7570 - accuracy: 0.3607\n",
            "Epoch 00021: val_loss improved from 1.82225 to 1.80934, saving model to saved_models/audio_classification_07:02:18.hdf5\n",
            "25/25 [==============================] - 1s 46ms/step - loss: 1.7443 - accuracy: 0.3680 - val_loss: 1.8093 - val_accuracy: 0.3600\n",
            "Epoch 22/100\n",
            "25/25 [==============================] - ETA: 0s - loss: 1.8599 - accuracy: 0.3129\n",
            "Epoch 00022: val_loss did not improve from 1.80934\n",
            "25/25 [==============================] - 1s 35ms/step - loss: 1.8599 - accuracy: 0.3129 - val_loss: 1.8550 - val_accuracy: 0.3650\n",
            "Epoch 23/100\n",
            "25/25 [==============================] - ETA: 0s - loss: 1.8057 - accuracy: 0.3317\n",
            "Epoch 00023: val_loss improved from 1.80934 to 1.79704, saving model to saved_models/audio_classification_07:02:18.hdf5\n",
            "25/25 [==============================] - 1s 43ms/step - loss: 1.8057 - accuracy: 0.3317 - val_loss: 1.7970 - val_accuracy: 0.4100\n",
            "Epoch 24/100\n",
            "25/25 [==============================] - ETA: 0s - loss: 1.7265 - accuracy: 0.3892\n",
            "Epoch 00024: val_loss improved from 1.79704 to 1.77014, saving model to saved_models/audio_classification_07:02:18.hdf5\n",
            "25/25 [==============================] - 1s 43ms/step - loss: 1.7265 - accuracy: 0.3892 - val_loss: 1.7701 - val_accuracy: 0.3450\n",
            "Epoch 25/100\n",
            "25/25 [==============================] - ETA: 0s - loss: 1.7029 - accuracy: 0.3805\n",
            "Epoch 00025: val_loss improved from 1.77014 to 1.71334, saving model to saved_models/audio_classification_07:02:18.hdf5\n",
            "25/25 [==============================] - 1s 44ms/step - loss: 1.7029 - accuracy: 0.3805 - val_loss: 1.7133 - val_accuracy: 0.3500\n",
            "Epoch 26/100\n",
            "25/25 [==============================] - ETA: 0s - loss: 1.7308 - accuracy: 0.3492\n",
            "Epoch 00026: val_loss did not improve from 1.71334\n",
            "25/25 [==============================] - 1s 37ms/step - loss: 1.7308 - accuracy: 0.3492 - val_loss: 1.7282 - val_accuracy: 0.3700\n",
            "Epoch 27/100\n",
            "25/25 [==============================] - ETA: 0s - loss: 1.7397 - accuracy: 0.3730\n",
            "Epoch 00027: val_loss improved from 1.71334 to 1.69354, saving model to saved_models/audio_classification_07:02:18.hdf5\n",
            "25/25 [==============================] - 1s 42ms/step - loss: 1.7397 - accuracy: 0.3730 - val_loss: 1.6935 - val_accuracy: 0.3900\n",
            "Epoch 28/100\n",
            "25/25 [==============================] - ETA: 0s - loss: 1.7069 - accuracy: 0.3730\n",
            "Epoch 00028: val_loss did not improve from 1.69354\n",
            "25/25 [==============================] - 1s 36ms/step - loss: 1.7069 - accuracy: 0.3730 - val_loss: 1.7593 - val_accuracy: 0.3750\n",
            "Epoch 29/100\n",
            "25/25 [==============================] - ETA: 0s - loss: 1.6472 - accuracy: 0.3755\n",
            "Epoch 00029: val_loss improved from 1.69354 to 1.66189, saving model to saved_models/audio_classification_07:02:18.hdf5\n",
            "25/25 [==============================] - 1s 45ms/step - loss: 1.6472 - accuracy: 0.3755 - val_loss: 1.6619 - val_accuracy: 0.3850\n",
            "Epoch 30/100\n",
            "24/25 [===========================>..] - ETA: 0s - loss: 1.6194 - accuracy: 0.3932\n",
            "Epoch 00030: val_loss improved from 1.66189 to 1.63972, saving model to saved_models/audio_classification_07:02:18.hdf5\n",
            "25/25 [==============================] - 1s 45ms/step - loss: 1.6303 - accuracy: 0.3880 - val_loss: 1.6397 - val_accuracy: 0.3850\n",
            "Epoch 31/100\n",
            "25/25 [==============================] - ETA: 0s - loss: 1.5994 - accuracy: 0.4193\n",
            "Epoch 00031: val_loss improved from 1.63972 to 1.63970, saving model to saved_models/audio_classification_07:02:18.hdf5\n",
            "25/25 [==============================] - 1s 45ms/step - loss: 1.5994 - accuracy: 0.4193 - val_loss: 1.6397 - val_accuracy: 0.3750\n",
            "Epoch 32/100\n",
            "25/25 [==============================] - ETA: 0s - loss: 1.5915 - accuracy: 0.4130\n",
            "Epoch 00032: val_loss did not improve from 1.63970\n",
            "25/25 [==============================] - 1s 36ms/step - loss: 1.5915 - accuracy: 0.4130 - val_loss: 1.6677 - val_accuracy: 0.4200\n",
            "Epoch 33/100\n",
            "25/25 [==============================] - ETA: 0s - loss: 1.6095 - accuracy: 0.3792\n",
            "Epoch 00033: val_loss did not improve from 1.63970\n",
            "25/25 [==============================] - 1s 38ms/step - loss: 1.6095 - accuracy: 0.3792 - val_loss: 1.7179 - val_accuracy: 0.3850\n",
            "Epoch 34/100\n",
            "25/25 [==============================] - ETA: 0s - loss: 1.5201 - accuracy: 0.4343\n",
            "Epoch 00034: val_loss improved from 1.63970 to 1.59007, saving model to saved_models/audio_classification_07:02:18.hdf5\n",
            "25/25 [==============================] - 1s 45ms/step - loss: 1.5201 - accuracy: 0.4343 - val_loss: 1.5901 - val_accuracy: 0.4050\n",
            "Epoch 35/100\n",
            "25/25 [==============================] - ETA: 0s - loss: 1.5270 - accuracy: 0.4068\n",
            "Epoch 00035: val_loss did not improve from 1.59007\n",
            "25/25 [==============================] - 1s 36ms/step - loss: 1.5270 - accuracy: 0.4068 - val_loss: 1.6653 - val_accuracy: 0.3600\n",
            "Epoch 36/100\n",
            "25/25 [==============================] - ETA: 0s - loss: 1.5013 - accuracy: 0.4393\n",
            "Epoch 00036: val_loss did not improve from 1.59007\n",
            "25/25 [==============================] - 1s 36ms/step - loss: 1.5013 - accuracy: 0.4393 - val_loss: 1.6242 - val_accuracy: 0.4150\n",
            "Epoch 37/100\n",
            "25/25 [==============================] - ETA: 0s - loss: 1.4767 - accuracy: 0.4531\n",
            "Epoch 00037: val_loss improved from 1.59007 to 1.56250, saving model to saved_models/audio_classification_07:02:18.hdf5\n",
            "25/25 [==============================] - 1s 45ms/step - loss: 1.4767 - accuracy: 0.4531 - val_loss: 1.5625 - val_accuracy: 0.4450\n",
            "Epoch 38/100\n",
            "25/25 [==============================] - ETA: 0s - loss: 1.4548 - accuracy: 0.4531\n",
            "Epoch 00038: val_loss improved from 1.56250 to 1.53873, saving model to saved_models/audio_classification_07:02:18.hdf5\n",
            "25/25 [==============================] - 1s 44ms/step - loss: 1.4548 - accuracy: 0.4531 - val_loss: 1.5387 - val_accuracy: 0.4650\n",
            "Epoch 39/100\n",
            "25/25 [==============================] - ETA: 0s - loss: 1.4640 - accuracy: 0.4406\n",
            "Epoch 00039: val_loss improved from 1.53873 to 1.50002, saving model to saved_models/audio_classification_07:02:18.hdf5\n",
            "25/25 [==============================] - 1s 44ms/step - loss: 1.4640 - accuracy: 0.4406 - val_loss: 1.5000 - val_accuracy: 0.5000\n",
            "Epoch 40/100\n",
            "25/25 [==============================] - ETA: 0s - loss: 1.4012 - accuracy: 0.4681\n",
            "Epoch 00040: val_loss improved from 1.50002 to 1.47530, saving model to saved_models/audio_classification_07:02:18.hdf5\n",
            "25/25 [==============================] - 1s 44ms/step - loss: 1.4012 - accuracy: 0.4681 - val_loss: 1.4753 - val_accuracy: 0.4650\n",
            "Epoch 41/100\n",
            "25/25 [==============================] - ETA: 0s - loss: 1.3963 - accuracy: 0.4731\n",
            "Epoch 00041: val_loss did not improve from 1.47530\n",
            "25/25 [==============================] - 1s 37ms/step - loss: 1.3963 - accuracy: 0.4731 - val_loss: 1.5985 - val_accuracy: 0.4000\n",
            "Epoch 42/100\n",
            "25/25 [==============================] - ETA: 0s - loss: 1.4707 - accuracy: 0.4606\n",
            "Epoch 00042: val_loss did not improve from 1.47530\n",
            "25/25 [==============================] - 1s 37ms/step - loss: 1.4707 - accuracy: 0.4606 - val_loss: 1.5364 - val_accuracy: 0.4750\n",
            "Epoch 43/100\n",
            "25/25 [==============================] - ETA: 0s - loss: 1.4228 - accuracy: 0.4631\n",
            "Epoch 00043: val_loss did not improve from 1.47530\n",
            "25/25 [==============================] - 1s 37ms/step - loss: 1.4228 - accuracy: 0.4631 - val_loss: 1.5629 - val_accuracy: 0.4500\n",
            "Epoch 44/100\n",
            "25/25 [==============================] - ETA: 0s - loss: 1.3559 - accuracy: 0.4831\n",
            "Epoch 00044: val_loss did not improve from 1.47530\n",
            "25/25 [==============================] - 1s 36ms/step - loss: 1.3559 - accuracy: 0.4831 - val_loss: 1.7357 - val_accuracy: 0.4100\n",
            "Epoch 45/100\n",
            "25/25 [==============================] - ETA: 0s - loss: 1.3372 - accuracy: 0.5156\n",
            "Epoch 00045: val_loss improved from 1.47530 to 1.45628, saving model to saved_models/audio_classification_07:02:18.hdf5\n",
            "25/25 [==============================] - 1s 43ms/step - loss: 1.3372 - accuracy: 0.5156 - val_loss: 1.4563 - val_accuracy: 0.4850\n",
            "Epoch 46/100\n",
            "25/25 [==============================] - ETA: 0s - loss: 1.3318 - accuracy: 0.4919\n",
            "Epoch 00046: val_loss improved from 1.45628 to 1.42974, saving model to saved_models/audio_classification_07:02:18.hdf5\n",
            "25/25 [==============================] - 1s 47ms/step - loss: 1.3318 - accuracy: 0.4919 - val_loss: 1.4297 - val_accuracy: 0.4850\n",
            "Epoch 47/100\n",
            "25/25 [==============================] - ETA: 0s - loss: 1.3101 - accuracy: 0.5207\n",
            "Epoch 00047: val_loss did not improve from 1.42974\n",
            "25/25 [==============================] - 1s 36ms/step - loss: 1.3101 - accuracy: 0.5207 - val_loss: 1.5169 - val_accuracy: 0.4600\n",
            "Epoch 48/100\n",
            "25/25 [==============================] - ETA: 0s - loss: 1.3288 - accuracy: 0.4981\n",
            "Epoch 00048: val_loss did not improve from 1.42974\n",
            "25/25 [==============================] - 1s 37ms/step - loss: 1.3288 - accuracy: 0.4981 - val_loss: 1.5165 - val_accuracy: 0.4850\n",
            "Epoch 49/100\n",
            "25/25 [==============================] - ETA: 0s - loss: 1.2994 - accuracy: 0.5282\n",
            "Epoch 00049: val_loss did not improve from 1.42974\n",
            "25/25 [==============================] - 1s 36ms/step - loss: 1.2994 - accuracy: 0.5282 - val_loss: 1.5878 - val_accuracy: 0.4650\n",
            "Epoch 50/100\n",
            "25/25 [==============================] - ETA: 0s - loss: 1.3556 - accuracy: 0.4756\n",
            "Epoch 00050: val_loss did not improve from 1.42974\n",
            "25/25 [==============================] - 1s 36ms/step - loss: 1.3556 - accuracy: 0.4756 - val_loss: 1.7617 - val_accuracy: 0.4650\n",
            "Epoch 51/100\n",
            "25/25 [==============================] - ETA: 0s - loss: 1.2900 - accuracy: 0.5319\n",
            "Epoch 00051: val_loss did not improve from 1.42974\n",
            "25/25 [==============================] - 1s 37ms/step - loss: 1.2900 - accuracy: 0.5319 - val_loss: 1.4482 - val_accuracy: 0.5150\n",
            "Epoch 52/100\n",
            "25/25 [==============================] - ETA: 0s - loss: 1.2494 - accuracy: 0.5344\n",
            "Epoch 00052: val_loss did not improve from 1.42974\n",
            "25/25 [==============================] - 1s 36ms/step - loss: 1.2494 - accuracy: 0.5344 - val_loss: 1.5041 - val_accuracy: 0.4800\n",
            "Epoch 53/100\n",
            "25/25 [==============================] - ETA: 0s - loss: 1.2425 - accuracy: 0.5519\n",
            "Epoch 00053: val_loss did not improve from 1.42974\n",
            "25/25 [==============================] - 1s 36ms/step - loss: 1.2425 - accuracy: 0.5519 - val_loss: 1.5220 - val_accuracy: 0.4700\n",
            "Epoch 54/100\n",
            "25/25 [==============================] - ETA: 0s - loss: 1.2618 - accuracy: 0.5482\n",
            "Epoch 00054: val_loss did not improve from 1.42974\n",
            "25/25 [==============================] - 1s 37ms/step - loss: 1.2618 - accuracy: 0.5482 - val_loss: 1.5252 - val_accuracy: 0.4750\n",
            "Epoch 55/100\n",
            "25/25 [==============================] - ETA: 0s - loss: 1.2865 - accuracy: 0.5469\n",
            "Epoch 00055: val_loss did not improve from 1.42974\n",
            "25/25 [==============================] - 1s 36ms/step - loss: 1.2865 - accuracy: 0.5469 - val_loss: 1.4659 - val_accuracy: 0.4900\n",
            "Epoch 56/100\n",
            "25/25 [==============================] - ETA: 0s - loss: 1.2399 - accuracy: 0.5594\n",
            "Epoch 00056: val_loss did not improve from 1.42974\n",
            "25/25 [==============================] - 1s 37ms/step - loss: 1.2399 - accuracy: 0.5594 - val_loss: 1.4337 - val_accuracy: 0.5150\n",
            "Epoch 57/100\n",
            "24/25 [===========================>..] - ETA: 0s - loss: 1.1523 - accuracy: 0.5768\n",
            "Epoch 00057: val_loss improved from 1.42974 to 1.39061, saving model to saved_models/audio_classification_07:02:18.hdf5\n",
            "25/25 [==============================] - 1s 48ms/step - loss: 1.1584 - accuracy: 0.5732 - val_loss: 1.3906 - val_accuracy: 0.5500\n",
            "Epoch 58/100\n",
            "25/25 [==============================] - ETA: 0s - loss: 1.1595 - accuracy: 0.5720\n",
            "Epoch 00058: val_loss did not improve from 1.39061\n",
            "25/25 [==============================] - 1s 36ms/step - loss: 1.1595 - accuracy: 0.5720 - val_loss: 1.4946 - val_accuracy: 0.5100\n",
            "Epoch 59/100\n",
            "25/25 [==============================] - ETA: 0s - loss: 1.1338 - accuracy: 0.5832\n",
            "Epoch 00059: val_loss did not improve from 1.39061\n",
            "25/25 [==============================] - 1s 37ms/step - loss: 1.1338 - accuracy: 0.5832 - val_loss: 1.5460 - val_accuracy: 0.5050\n",
            "Epoch 60/100\n",
            "25/25 [==============================] - ETA: 0s - loss: 1.0931 - accuracy: 0.5907\n",
            "Epoch 00060: val_loss did not improve from 1.39061\n",
            "25/25 [==============================] - 1s 38ms/step - loss: 1.0931 - accuracy: 0.5907 - val_loss: 1.7499 - val_accuracy: 0.5300\n",
            "Epoch 61/100\n",
            "25/25 [==============================] - ETA: 0s - loss: 1.1592 - accuracy: 0.5770\n",
            "Epoch 00061: val_loss did not improve from 1.39061\n",
            "25/25 [==============================] - 1s 38ms/step - loss: 1.1592 - accuracy: 0.5770 - val_loss: 1.6700 - val_accuracy: 0.5050\n",
            "Epoch 62/100\n",
            "25/25 [==============================] - ETA: 0s - loss: 1.0956 - accuracy: 0.6108\n",
            "Epoch 00062: val_loss did not improve from 1.39061\n",
            "25/25 [==============================] - 1s 37ms/step - loss: 1.0956 - accuracy: 0.6108 - val_loss: 1.7377 - val_accuracy: 0.4850\n",
            "Epoch 63/100\n",
            "25/25 [==============================] - ETA: 0s - loss: 1.1313 - accuracy: 0.6033\n",
            "Epoch 00063: val_loss did not improve from 1.39061\n",
            "25/25 [==============================] - 1s 37ms/step - loss: 1.1313 - accuracy: 0.6033 - val_loss: 1.5013 - val_accuracy: 0.5300\n",
            "Epoch 64/100\n",
            "24/25 [===========================>..] - ETA: 0s - loss: 1.1401 - accuracy: 0.5872\n",
            "Epoch 00064: val_loss did not improve from 1.39061\n",
            "25/25 [==============================] - 1s 37ms/step - loss: 1.1439 - accuracy: 0.5870 - val_loss: 1.6743 - val_accuracy: 0.4400\n",
            "Epoch 65/100\n",
            "25/25 [==============================] - ETA: 0s - loss: 1.1480 - accuracy: 0.5932\n",
            "Epoch 00065: val_loss did not improve from 1.39061\n",
            "25/25 [==============================] - 1s 36ms/step - loss: 1.1480 - accuracy: 0.5932 - val_loss: 1.4677 - val_accuracy: 0.5200\n",
            "Epoch 66/100\n",
            "25/25 [==============================] - ETA: 0s - loss: 1.0819 - accuracy: 0.6095\n",
            "Epoch 00066: val_loss did not improve from 1.39061\n",
            "25/25 [==============================] - 1s 37ms/step - loss: 1.0819 - accuracy: 0.6095 - val_loss: 1.5687 - val_accuracy: 0.5450\n",
            "Epoch 67/100\n",
            "24/25 [===========================>..] - ETA: 0s - loss: 1.1245 - accuracy: 0.5977\n",
            "Epoch 00067: val_loss did not improve from 1.39061\n",
            "25/25 [==============================] - 1s 37ms/step - loss: 1.1241 - accuracy: 0.5970 - val_loss: 1.6528 - val_accuracy: 0.5050\n",
            "Epoch 68/100\n",
            "24/25 [===========================>..] - ETA: 0s - loss: 1.0845 - accuracy: 0.6159\n",
            "Epoch 00068: val_loss did not improve from 1.39061\n",
            "25/25 [==============================] - 1s 39ms/step - loss: 1.0709 - accuracy: 0.6183 - val_loss: 1.5568 - val_accuracy: 0.5500\n",
            "Epoch 69/100\n",
            "25/25 [==============================] - ETA: 0s - loss: 0.9893 - accuracy: 0.6370\n",
            "Epoch 00069: val_loss did not improve from 1.39061\n",
            "25/25 [==============================] - 1s 37ms/step - loss: 0.9893 - accuracy: 0.6370 - val_loss: 1.5918 - val_accuracy: 0.5300\n",
            "Epoch 70/100\n",
            "25/25 [==============================] - ETA: 0s - loss: 1.0341 - accuracy: 0.6270\n",
            "Epoch 00070: val_loss did not improve from 1.39061\n",
            "25/25 [==============================] - 1s 36ms/step - loss: 1.0341 - accuracy: 0.6270 - val_loss: 1.5613 - val_accuracy: 0.5100\n",
            "Epoch 71/100\n",
            "25/25 [==============================] - ETA: 0s - loss: 1.1788 - accuracy: 0.6370\n",
            "Epoch 00071: val_loss did not improve from 1.39061\n",
            "25/25 [==============================] - 1s 36ms/step - loss: 1.1788 - accuracy: 0.6370 - val_loss: 1.5718 - val_accuracy: 0.5200\n",
            "Epoch 72/100\n",
            "25/25 [==============================] - ETA: 0s - loss: 1.0641 - accuracy: 0.6095\n",
            "Epoch 00072: val_loss did not improve from 1.39061\n",
            "25/25 [==============================] - 1s 36ms/step - loss: 1.0641 - accuracy: 0.6095 - val_loss: 1.5123 - val_accuracy: 0.5450\n",
            "Epoch 73/100\n",
            "25/25 [==============================] - ETA: 0s - loss: 1.1009 - accuracy: 0.6295\n",
            "Epoch 00073: val_loss improved from 1.39061 to 1.32083, saving model to saved_models/audio_classification_07:02:18.hdf5\n",
            "25/25 [==============================] - 2s 78ms/step - loss: 1.1009 - accuracy: 0.6295 - val_loss: 1.3208 - val_accuracy: 0.5200\n",
            "Epoch 74/100\n",
            "25/25 [==============================] - ETA: 0s - loss: 1.0867 - accuracy: 0.6233\n",
            "Epoch 00074: val_loss improved from 1.32083 to 1.23806, saving model to saved_models/audio_classification_07:02:18.hdf5\n",
            "25/25 [==============================] - 1s 43ms/step - loss: 1.0867 - accuracy: 0.6233 - val_loss: 1.2381 - val_accuracy: 0.5800\n",
            "Epoch 75/100\n",
            "25/25 [==============================] - ETA: 0s - loss: 1.0487 - accuracy: 0.6308\n",
            "Epoch 00075: val_loss did not improve from 1.23806\n",
            "25/25 [==============================] - 1s 36ms/step - loss: 1.0487 - accuracy: 0.6308 - val_loss: 1.6118 - val_accuracy: 0.5550\n",
            "Epoch 76/100\n",
            "25/25 [==============================] - ETA: 0s - loss: 1.0706 - accuracy: 0.6208\n",
            "Epoch 00076: val_loss did not improve from 1.23806\n",
            "25/25 [==============================] - 1s 36ms/step - loss: 1.0706 - accuracy: 0.6208 - val_loss: 1.5361 - val_accuracy: 0.5950\n",
            "Epoch 77/100\n",
            "25/25 [==============================] - ETA: 0s - loss: 0.9813 - accuracy: 0.6771\n",
            "Epoch 00077: val_loss did not improve from 1.23806\n",
            "25/25 [==============================] - 1s 37ms/step - loss: 0.9813 - accuracy: 0.6771 - val_loss: 1.4211 - val_accuracy: 0.5900\n",
            "Epoch 78/100\n",
            "25/25 [==============================] - ETA: 0s - loss: 0.9945 - accuracy: 0.6508\n",
            "Epoch 00078: val_loss did not improve from 1.23806\n",
            "25/25 [==============================] - 1s 36ms/step - loss: 0.9945 - accuracy: 0.6508 - val_loss: 1.4791 - val_accuracy: 0.5500\n",
            "Epoch 79/100\n",
            "25/25 [==============================] - ETA: 0s - loss: 1.0221 - accuracy: 0.6370\n",
            "Epoch 00079: val_loss did not improve from 1.23806\n",
            "25/25 [==============================] - 1s 36ms/step - loss: 1.0221 - accuracy: 0.6370 - val_loss: 1.4961 - val_accuracy: 0.5700\n",
            "Epoch 80/100\n",
            "25/25 [==============================] - ETA: 0s - loss: 0.9264 - accuracy: 0.6834\n",
            "Epoch 00080: val_loss did not improve from 1.23806\n",
            "25/25 [==============================] - 1s 37ms/step - loss: 0.9264 - accuracy: 0.6834 - val_loss: 1.5219 - val_accuracy: 0.5800\n",
            "Epoch 81/100\n",
            "25/25 [==============================] - ETA: 0s - loss: 0.8679 - accuracy: 0.7109\n",
            "Epoch 00081: val_loss did not improve from 1.23806\n",
            "25/25 [==============================] - 1s 37ms/step - loss: 0.8679 - accuracy: 0.7109 - val_loss: 1.6321 - val_accuracy: 0.5750\n",
            "Epoch 82/100\n",
            "24/25 [===========================>..] - ETA: 0s - loss: 0.8988 - accuracy: 0.7148\n",
            "Epoch 00082: val_loss did not improve from 1.23806\n",
            "25/25 [==============================] - 1s 37ms/step - loss: 0.9329 - accuracy: 0.7059 - val_loss: 1.7724 - val_accuracy: 0.5800\n",
            "Epoch 83/100\n",
            "25/25 [==============================] - ETA: 0s - loss: 0.9065 - accuracy: 0.6821\n",
            "Epoch 00083: val_loss did not improve from 1.23806\n",
            "25/25 [==============================] - 1s 36ms/step - loss: 0.9065 - accuracy: 0.6821 - val_loss: 1.4823 - val_accuracy: 0.5900\n",
            "Epoch 84/100\n",
            "25/25 [==============================] - ETA: 0s - loss: 0.8728 - accuracy: 0.7021\n",
            "Epoch 00084: val_loss did not improve from 1.23806\n",
            "25/25 [==============================] - 1s 41ms/step - loss: 0.8728 - accuracy: 0.7021 - val_loss: 1.6336 - val_accuracy: 0.5900\n",
            "Epoch 85/100\n",
            "25/25 [==============================] - ETA: 0s - loss: 0.8397 - accuracy: 0.7247\n",
            "Epoch 00085: val_loss did not improve from 1.23806\n",
            "25/25 [==============================] - 1s 36ms/step - loss: 0.8397 - accuracy: 0.7247 - val_loss: 1.6265 - val_accuracy: 0.5650\n",
            "Epoch 86/100\n",
            "25/25 [==============================] - ETA: 0s - loss: 0.8346 - accuracy: 0.7196\n",
            "Epoch 00086: val_loss did not improve from 1.23806\n",
            "25/25 [==============================] - 1s 37ms/step - loss: 0.8346 - accuracy: 0.7196 - val_loss: 1.7164 - val_accuracy: 0.5650\n",
            "Epoch 87/100\n",
            "25/25 [==============================] - ETA: 0s - loss: 0.8386 - accuracy: 0.7096\n",
            "Epoch 00087: val_loss did not improve from 1.23806\n",
            "25/25 [==============================] - 1s 37ms/step - loss: 0.8386 - accuracy: 0.7096 - val_loss: 1.5024 - val_accuracy: 0.5800\n",
            "Epoch 88/100\n",
            "24/25 [===========================>..] - ETA: 0s - loss: 0.7561 - accuracy: 0.7487\n",
            "Epoch 00088: val_loss did not improve from 1.23806\n",
            "25/25 [==============================] - 1s 37ms/step - loss: 0.7606 - accuracy: 0.7459 - val_loss: 1.8635 - val_accuracy: 0.6100\n",
            "Epoch 89/100\n",
            "25/25 [==============================] - ETA: 0s - loss: 0.8063 - accuracy: 0.7297\n",
            "Epoch 00089: val_loss did not improve from 1.23806\n",
            "25/25 [==============================] - 1s 36ms/step - loss: 0.8063 - accuracy: 0.7297 - val_loss: 1.8379 - val_accuracy: 0.5550\n",
            "Epoch 90/100\n",
            "25/25 [==============================] - ETA: 0s - loss: 0.7734 - accuracy: 0.7422\n",
            "Epoch 00090: val_loss did not improve from 1.23806\n",
            "25/25 [==============================] - 1s 38ms/step - loss: 0.7734 - accuracy: 0.7422 - val_loss: 1.6296 - val_accuracy: 0.5900\n",
            "Epoch 91/100\n",
            "25/25 [==============================] - ETA: 0s - loss: 0.7599 - accuracy: 0.7334\n",
            "Epoch 00091: val_loss did not improve from 1.23806\n",
            "25/25 [==============================] - 1s 38ms/step - loss: 0.7599 - accuracy: 0.7334 - val_loss: 1.7683 - val_accuracy: 0.5800\n",
            "Epoch 92/100\n",
            "25/25 [==============================] - ETA: 0s - loss: 0.7493 - accuracy: 0.7372\n",
            "Epoch 00092: val_loss did not improve from 1.23806\n",
            "25/25 [==============================] - 1s 36ms/step - loss: 0.7493 - accuracy: 0.7372 - val_loss: 1.6580 - val_accuracy: 0.5800\n",
            "Epoch 93/100\n",
            "25/25 [==============================] - ETA: 0s - loss: 0.8246 - accuracy: 0.7359\n",
            "Epoch 00093: val_loss did not improve from 1.23806\n",
            "25/25 [==============================] - 1s 37ms/step - loss: 0.8246 - accuracy: 0.7359 - val_loss: 1.4649 - val_accuracy: 0.6000\n",
            "Epoch 94/100\n",
            "25/25 [==============================] - ETA: 0s - loss: 0.7012 - accuracy: 0.7697\n",
            "Epoch 00094: val_loss did not improve from 1.23806\n",
            "25/25 [==============================] - 1s 37ms/step - loss: 0.7012 - accuracy: 0.7697 - val_loss: 1.6397 - val_accuracy: 0.5850\n",
            "Epoch 95/100\n",
            "25/25 [==============================] - ETA: 0s - loss: 0.6485 - accuracy: 0.7872\n",
            "Epoch 00095: val_loss did not improve from 1.23806\n",
            "25/25 [==============================] - 1s 37ms/step - loss: 0.6485 - accuracy: 0.7872 - val_loss: 1.8883 - val_accuracy: 0.5950\n",
            "Epoch 96/100\n",
            "25/25 [==============================] - ETA: 0s - loss: 0.6779 - accuracy: 0.7947\n",
            "Epoch 00096: val_loss did not improve from 1.23806\n",
            "25/25 [==============================] - 1s 38ms/step - loss: 0.6779 - accuracy: 0.7947 - val_loss: 1.8902 - val_accuracy: 0.6100\n",
            "Epoch 97/100\n",
            "25/25 [==============================] - ETA: 0s - loss: 0.6552 - accuracy: 0.7672\n",
            "Epoch 00097: val_loss did not improve from 1.23806\n",
            "25/25 [==============================] - 1s 37ms/step - loss: 0.6552 - accuracy: 0.7672 - val_loss: 2.1308 - val_accuracy: 0.5750\n",
            "Epoch 98/100\n",
            "24/25 [===========================>..] - ETA: 0s - loss: 0.7253 - accuracy: 0.7630\n",
            "Epoch 00098: val_loss did not improve from 1.23806\n",
            "25/25 [==============================] - 1s 38ms/step - loss: 0.7182 - accuracy: 0.7660 - val_loss: 2.1022 - val_accuracy: 0.6200\n",
            "Epoch 99/100\n",
            "25/25 [==============================] - ETA: 0s - loss: 0.7694 - accuracy: 0.7660\n",
            "Epoch 00099: val_loss did not improve from 1.23806\n",
            "25/25 [==============================] - 1s 37ms/step - loss: 0.7694 - accuracy: 0.7660 - val_loss: 1.7315 - val_accuracy: 0.5750\n",
            "Epoch 100/100\n",
            "25/25 [==============================] - ETA: 0s - loss: 0.7309 - accuracy: 0.7797\n",
            "Epoch 00100: val_loss did not improve from 1.23806\n",
            "25/25 [==============================] - 1s 37ms/step - loss: 0.7309 - accuracy: 0.7797 - val_loss: 1.8788 - val_accuracy: 0.5650\n",
            "Training completed in time:  0:01:39.812069\n"
          ]
        }
      ]
    },
    {
      "cell_type": "code",
      "metadata": {
        "execution": {
          "iopub.execute_input": "2021-06-24T12:54:21.467209Z",
          "iopub.status.busy": "2021-06-24T12:54:21.466820Z",
          "iopub.status.idle": "2021-06-24T12:54:21.528645Z",
          "shell.execute_reply": "2021-06-24T12:54:21.527621Z",
          "shell.execute_reply.started": "2021-06-24T12:54:21.467173Z"
        },
        "colab": {
          "base_uri": "https://localhost:8080/"
        },
        "id": "IJusRAFaxRDc",
        "outputId": "7c365e8e-2c1c-4b4d-a0ec-8ee88ce97a50"
      },
      "source": [
        "model.evaluate(X_test,y_test,verbose=1)"
      ],
      "execution_count": null,
      "outputs": [
        {
          "output_type": "stream",
          "name": "stdout",
          "text": [
            "7/7 [==============================] - 0s 7ms/step - loss: 1.8788 - accuracy: 0.5650\n"
          ]
        },
        {
          "output_type": "execute_result",
          "data": {
            "text/plain": [
              "[1.8788098096847534, 0.5649999976158142]"
            ]
          },
          "metadata": {},
          "execution_count": 26
        }
      ]
    },
    {
      "cell_type": "code",
      "metadata": {
        "colab": {
          "base_uri": "https://localhost:8080/",
          "height": 374
        },
        "id": "gM6mdwNU53Ha",
        "outputId": "6fe705d2-51e7-4952-ec66-d8b8b729bc30"
      },
      "source": [
        "pd.DataFrame(history.history).plot(figsize=(12,6))\n",
        "plt.show()"
      ],
      "execution_count": null,
      "outputs": [
        {
          "output_type": "display_data",
          "data": {
            "image/png": "[encoded data removed]",
            "text/plain": [
              "<Figure size 864x432 with 1 Axes>"
            ]
          },
          "metadata": {
            "needs_background": "light"
          }
        }
      ]
    },
    {
      "cell_type": "code",
      "metadata": {
        "id": "rgGW4zsIxRDc"
      },
      "source": [
        "predict_x=model.predict(X_test) \n",
        "classes_x=np.argmax(predict_x,axis=1)"
      ],
      "execution_count": null,
      "outputs": []
    },
    {
      "cell_type": "code",
      "metadata": {
        "id": "j6qgqKtOxRDd",
        "colab": {
          "base_uri": "https://localhost:8080/"
        },
        "outputId": "41e74bda-c7e4-4460-b7e8-3a102b44fad0"
      },
      "source": [
        "filename=\"/content/drive/MyDrive/AML Project/Data/genres_original/blues/blues.00000.wav\"\n",
        "audio, sample_rate = librosa.load(filename, res_type='kaiser_fast') \n",
        "mfccs_features = librosa.feature.mfcc(y=audio, sr=sample_rate, n_mfcc=40)\n",
        "mfccs_scaled_features = np.mean(mfccs_features.T,axis=0)\n",
        "\n",
        "#print(mfccs_scaled_features)\n",
        "mfccs_scaled_features=mfccs_scaled_features.reshape(1,-1)\n",
        "#print(mfccs_scaled_features)\n",
        "#print(mfccs_scaled_features.shape)\n",
        "predicted_label=model.predict(X_test)\n",
        "predicted_classes=np.argmax(predicted_label, axis=1)\n",
        "#print(predicted_label)\n",
        "prediction_class = labelencoder.inverse_transform(predicted_classes) \n",
        "print(prediction_class)\n",
        "#yy_test = labelencoder.inverse_transform(y_test)\n",
        "#print((yy_test))"
      ],
      "execution_count": null,
      "outputs": [
        {
          "output_type": "stream",
          "name": "stdout",
          "text": [
            "['pop' 'blues' 'hiphop' 'metal' 'rock' 'jazz' 'disco' 'hiphop' 'blues'\n",
            " 'rock' 'metal' 'country' 'disco' 'reggae' 'rock' 'rock' 'disco' 'disco'\n",
            " 'rock' 'country' 'metal' 'hiphop' 'jazz' 'rock' 'classical' 'country'\n",
            " 'blues' 'disco' 'hiphop' 'disco' 'metal' 'classical' 'pop' 'hiphop' 'pop'\n",
            " 'pop' 'blues' 'hiphop' 'country' 'disco' 'country' 'reggae' 'metal'\n",
            " 'blues' 'country' 'disco' 'pop' 'rock' 'disco' 'classical' 'disco' 'rock'\n",
            " 'disco' 'classical' 'reggae' 'hiphop' 'hiphop' 'country' 'reggae' 'jazz'\n",
            " 'reggae' 'metal' 'classical' 'disco' 'pop' 'reggae' 'jazz' 'reggae'\n",
            " 'rock' 'disco' 'classical' 'reggae' 'classical' 'classical' 'rock'\n",
            " 'hiphop' 'metal' 'disco' 'metal' 'country' 'metal' 'rock' 'metal' 'jazz'\n",
            " 'disco' 'disco' 'jazz' 'rock' 'country' 'pop' 'disco' 'reggae' 'reggae'\n",
            " 'jazz' 'classical' 'metal' 'country' 'hiphop' 'jazz' 'blues' 'classical'\n",
            " 'jazz' 'metal' 'metal' 'pop' 'jazz' 'classical' 'country' 'jazz' 'blues'\n",
            " 'reggae' 'classical' 'reggae' 'reggae' 'rock' 'country' 'disco' 'reggae'\n",
            " 'country' 'reggae' 'blues' 'hiphop' 'hiphop' 'metal' 'country' 'reggae'\n",
            " 'country' 'hiphop' 'metal' 'disco' 'disco' 'hiphop' 'disco' 'rock'\n",
            " 'disco' 'country' 'hiphop' 'classical' 'pop' 'country' 'classical'\n",
            " 'country' 'metal' 'disco' 'hiphop' 'blues' 'blues' 'classical' 'blues'\n",
            " 'jazz' 'rock' 'country' 'pop' 'country' 'reggae' 'reggae' 'hiphop' 'rock'\n",
            " 'metal' 'hiphop' 'classical' 'jazz' 'classical' 'jazz' 'pop' 'rock'\n",
            " 'rock' 'pop' 'classical' 'blues' 'country' 'reggae' 'disco' 'rock'\n",
            " 'disco' 'classical' 'pop' 'hiphop' 'jazz' 'reggae' 'country' 'rock'\n",
            " 'country' 'metal' 'disco' 'reggae' 'rock' 'disco' 'reggae' 'blues'\n",
            " 'disco' 'metal' 'pop' 'reggae' 'metal' 'classical' 'country' 'reggae'\n",
            " 'disco' 'reggae']\n"
          ]
        }
      ]
    },
    {
      "cell_type": "code",
      "metadata": {
        "id": "CFIA8vEF97k7",
        "colab": {
          "base_uri": "https://localhost:8080/",
          "height": 311
        },
        "outputId": "8e3a07e2-5e76-4ce8-f71d-03810bded16a"
      },
      "source": [
        "matrix = metrics.confusion_matrix(y_test.argmax(axis=0), predicted_classes.argmax())"
      ],
      "execution_count": null,
      "outputs": [
        {
          "output_type": "error",
          "ename": "TypeError",
          "evalue": "ignored",
          "traceback": [
            "\u001b[0;31m---------------------------------------------------------------------------\u001b[0m",
            "\u001b[0;31mTypeError\u001b[0m                                 Traceback (most recent call last)",
            "\u001b[0;32m<ipython-input-30-396da9692b71>\u001b[0m in \u001b[0;36m<module>\u001b[0;34m()\u001b[0m\n\u001b[0;32m----> 1\u001b[0;31m \u001b[0mmatrix\u001b[0m \u001b[0;34m=\u001b[0m \u001b[0mmetrics\u001b[0m\u001b[0;34m.\u001b[0m\u001b[0mconfusion_matrix\u001b[0m\u001b[0;34m(\u001b[0m\u001b[0my_test\u001b[0m\u001b[0;34m.\u001b[0m\u001b[0margmax\u001b[0m\u001b[0;34m(\u001b[0m\u001b[0maxis\u001b[0m\u001b[0;34m=\u001b[0m\u001b[0;36m0\u001b[0m\u001b[0;34m)\u001b[0m\u001b[0;34m,\u001b[0m \u001b[0mpredicted_classes\u001b[0m\u001b[0;34m.\u001b[0m\u001b[0margmax\u001b[0m\u001b[0;34m(\u001b[0m\u001b[0;34m)\u001b[0m\u001b[0;34m)\u001b[0m\u001b[0;34m\u001b[0m\u001b[0;34m\u001b[0m\u001b[0m\n\u001b[0m",
            "\u001b[0;32m/usr/local/lib/python3.7/dist-packages/sklearn/metrics/_classification.py\u001b[0m in \u001b[0;36mconfusion_matrix\u001b[0;34m(y_true, y_pred, labels, sample_weight, normalize)\u001b[0m\n\u001b[1;32m    300\u001b[0m \u001b[0;34m\u001b[0m\u001b[0m\n\u001b[1;32m    301\u001b[0m     \"\"\"\n\u001b[0;32m--> 302\u001b[0;31m     \u001b[0my_type\u001b[0m\u001b[0;34m,\u001b[0m \u001b[0my_true\u001b[0m\u001b[0;34m,\u001b[0m \u001b[0my_pred\u001b[0m \u001b[0;34m=\u001b[0m \u001b[0m_check_targets\u001b[0m\u001b[0;34m(\u001b[0m\u001b[0my_true\u001b[0m\u001b[0;34m,\u001b[0m \u001b[0my_pred\u001b[0m\u001b[0;34m)\u001b[0m\u001b[0;34m\u001b[0m\u001b[0;34m\u001b[0m\u001b[0m\n\u001b[0m\u001b[1;32m    303\u001b[0m     \u001b[0;32mif\u001b[0m \u001b[0my_type\u001b[0m \u001b[0;32mnot\u001b[0m \u001b[0;32min\u001b[0m \u001b[0;34m(\u001b[0m\u001b[0;34m\"binary\"\u001b[0m\u001b[0;34m,\u001b[0m \u001b[0;34m\"multiclass\"\u001b[0m\u001b[0;34m)\u001b[0m\u001b[0;34m:\u001b[0m\u001b[0;34m\u001b[0m\u001b[0;34m\u001b[0m\u001b[0m\n\u001b[1;32m    304\u001b[0m         \u001b[0;32mraise\u001b[0m \u001b[0mValueError\u001b[0m\u001b[0;34m(\u001b[0m\u001b[0;34m\"%s is not supported\"\u001b[0m \u001b[0;34m%\u001b[0m \u001b[0my_type\u001b[0m\u001b[0;34m)\u001b[0m\u001b[0;34m\u001b[0m\u001b[0;34m\u001b[0m\u001b[0m\n",
            "\u001b[0;32m/usr/local/lib/python3.7/dist-packages/sklearn/metrics/_classification.py\u001b[0m in \u001b[0;36m_check_targets\u001b[0;34m(y_true, y_pred)\u001b[0m\n\u001b[1;32m     82\u001b[0m     \u001b[0my_pred\u001b[0m \u001b[0;34m:\u001b[0m \u001b[0marray\u001b[0m \u001b[0;32mor\u001b[0m \u001b[0mindicator\u001b[0m \u001b[0mmatrix\u001b[0m\u001b[0;34m\u001b[0m\u001b[0;34m\u001b[0m\u001b[0m\n\u001b[1;32m     83\u001b[0m     \"\"\"\n\u001b[0;32m---> 84\u001b[0;31m     \u001b[0mcheck_consistent_length\u001b[0m\u001b[0;34m(\u001b[0m\u001b[0my_true\u001b[0m\u001b[0;34m,\u001b[0m \u001b[0my_pred\u001b[0m\u001b[0;34m)\u001b[0m\u001b[0;34m\u001b[0m\u001b[0;34m\u001b[0m\u001b[0m\n\u001b[0m\u001b[1;32m     85\u001b[0m     \u001b[0mtype_true\u001b[0m \u001b[0;34m=\u001b[0m \u001b[0mtype_of_target\u001b[0m\u001b[0;34m(\u001b[0m\u001b[0my_true\u001b[0m\u001b[0;34m)\u001b[0m\u001b[0;34m\u001b[0m\u001b[0;34m\u001b[0m\u001b[0m\n\u001b[1;32m     86\u001b[0m     \u001b[0mtype_pred\u001b[0m \u001b[0;34m=\u001b[0m \u001b[0mtype_of_target\u001b[0m\u001b[0;34m(\u001b[0m\u001b[0my_pred\u001b[0m\u001b[0;34m)\u001b[0m\u001b[0;34m\u001b[0m\u001b[0;34m\u001b[0m\u001b[0m\n",
            "\u001b[0;32m/usr/local/lib/python3.7/dist-packages/sklearn/utils/validation.py\u001b[0m in \u001b[0;36mcheck_consistent_length\u001b[0;34m(*arrays)\u001b[0m\n\u001b[1;32m    326\u001b[0m     \"\"\"\n\u001b[1;32m    327\u001b[0m \u001b[0;34m\u001b[0m\u001b[0m\n\u001b[0;32m--> 328\u001b[0;31m     \u001b[0mlengths\u001b[0m \u001b[0;34m=\u001b[0m \u001b[0;34m[\u001b[0m\u001b[0m_num_samples\u001b[0m\u001b[0;34m(\u001b[0m\u001b[0mX\u001b[0m\u001b[0;34m)\u001b[0m \u001b[0;32mfor\u001b[0m \u001b[0mX\u001b[0m \u001b[0;32min\u001b[0m \u001b[0marrays\u001b[0m \u001b[0;32mif\u001b[0m \u001b[0mX\u001b[0m \u001b[0;32mis\u001b[0m \u001b[0;32mnot\u001b[0m \u001b[0;32mNone\u001b[0m\u001b[0;34m]\u001b[0m\u001b[0;34m\u001b[0m\u001b[0;34m\u001b[0m\u001b[0m\n\u001b[0m\u001b[1;32m    329\u001b[0m     \u001b[0muniques\u001b[0m \u001b[0;34m=\u001b[0m \u001b[0mnp\u001b[0m\u001b[0;34m.\u001b[0m\u001b[0munique\u001b[0m\u001b[0;34m(\u001b[0m\u001b[0mlengths\u001b[0m\u001b[0;34m)\u001b[0m\u001b[0;34m\u001b[0m\u001b[0;34m\u001b[0m\u001b[0m\n\u001b[1;32m    330\u001b[0m     \u001b[0;32mif\u001b[0m \u001b[0mlen\u001b[0m\u001b[0;34m(\u001b[0m\u001b[0muniques\u001b[0m\u001b[0;34m)\u001b[0m \u001b[0;34m>\u001b[0m \u001b[0;36m1\u001b[0m\u001b[0;34m:\u001b[0m\u001b[0;34m\u001b[0m\u001b[0;34m\u001b[0m\u001b[0m\n",
            "\u001b[0;32m/usr/local/lib/python3.7/dist-packages/sklearn/utils/validation.py\u001b[0m in \u001b[0;36m<listcomp>\u001b[0;34m(.0)\u001b[0m\n\u001b[1;32m    326\u001b[0m     \"\"\"\n\u001b[1;32m    327\u001b[0m \u001b[0;34m\u001b[0m\u001b[0m\n\u001b[0;32m--> 328\u001b[0;31m     \u001b[0mlengths\u001b[0m \u001b[0;34m=\u001b[0m \u001b[0;34m[\u001b[0m\u001b[0m_num_samples\u001b[0m\u001b[0;34m(\u001b[0m\u001b[0mX\u001b[0m\u001b[0;34m)\u001b[0m \u001b[0;32mfor\u001b[0m \u001b[0mX\u001b[0m \u001b[0;32min\u001b[0m \u001b[0marrays\u001b[0m \u001b[0;32mif\u001b[0m \u001b[0mX\u001b[0m \u001b[0;32mis\u001b[0m \u001b[0;32mnot\u001b[0m \u001b[0;32mNone\u001b[0m\u001b[0;34m]\u001b[0m\u001b[0;34m\u001b[0m\u001b[0;34m\u001b[0m\u001b[0m\n\u001b[0m\u001b[1;32m    329\u001b[0m     \u001b[0muniques\u001b[0m \u001b[0;34m=\u001b[0m \u001b[0mnp\u001b[0m\u001b[0;34m.\u001b[0m\u001b[0munique\u001b[0m\u001b[0;34m(\u001b[0m\u001b[0mlengths\u001b[0m\u001b[0;34m)\u001b[0m\u001b[0;34m\u001b[0m\u001b[0;34m\u001b[0m\u001b[0m\n\u001b[1;32m    330\u001b[0m     \u001b[0;32mif\u001b[0m \u001b[0mlen\u001b[0m\u001b[0;34m(\u001b[0m\u001b[0muniques\u001b[0m\u001b[0;34m)\u001b[0m \u001b[0;34m>\u001b[0m \u001b[0;36m1\u001b[0m\u001b[0;34m:\u001b[0m\u001b[0;34m\u001b[0m\u001b[0;34m\u001b[0m\u001b[0m\n",
            "\u001b[0;32m/usr/local/lib/python3.7/dist-packages/sklearn/utils/validation.py\u001b[0m in \u001b[0;36m_num_samples\u001b[0;34m(x)\u001b[0m\n\u001b[1;32m    267\u001b[0m         \u001b[0;32mif\u001b[0m \u001b[0mlen\u001b[0m\u001b[0;34m(\u001b[0m\u001b[0mx\u001b[0m\u001b[0;34m.\u001b[0m\u001b[0mshape\u001b[0m\u001b[0;34m)\u001b[0m \u001b[0;34m==\u001b[0m \u001b[0;36m0\u001b[0m\u001b[0;34m:\u001b[0m\u001b[0;34m\u001b[0m\u001b[0;34m\u001b[0m\u001b[0m\n\u001b[1;32m    268\u001b[0m             raise TypeError(\n\u001b[0;32m--> 269\u001b[0;31m                 \u001b[0;34m\"Singleton array %r cannot be considered a valid collection.\"\u001b[0m \u001b[0;34m%\u001b[0m \u001b[0mx\u001b[0m\u001b[0;34m\u001b[0m\u001b[0;34m\u001b[0m\u001b[0m\n\u001b[0m\u001b[1;32m    270\u001b[0m             )\n\u001b[1;32m    271\u001b[0m         \u001b[0;31m# Check that shape is returning an integer or default to len\u001b[0m\u001b[0;34m\u001b[0m\u001b[0;34m\u001b[0m\u001b[0;34m\u001b[0m\u001b[0m\n",
            "\u001b[0;31mTypeError\u001b[0m: Singleton array 4 cannot be considered a valid collection."
          ]
        }
      ]
    },
    {
      "cell_type": "code",
      "source": [
        "X_train.shape[1]"
      ],
      "metadata": {
        "id": "ei50GvvXwR_y"
      },
      "execution_count": null,
      "outputs": []
    },
    {
      "cell_type": "code",
      "source": [
        "'''model2 = Sequential()\n",
        "model2.add(LSTM(128,dropout=0.05,recurrent_dropout=0.35,return_sequences=True,input_shape=(799,40)))\n",
        "model2.add(LSTM(units=32,dropout=0.05,recurrent_dropout=0.35,return_sequences=False))\n",
        "model2.add(Dense(units=num_labels,activation='relu'))\n",
        "model2.add(Dropout(0.3))\n",
        "model2.add(Dense(10,activation='softmax'))\n",
        "model2.compile(loss='categorical_crossentropy',optimizer='adam',metrics=['accuracy'])"
      ],
      "metadata": {
        "id": "4yatHgE6tDLO"
      },
      "execution_count": null,
      "outputs": []
    },
    {
      "cell_type": "code",
      "source": [
        "'''model2.summary()"
      ],
      "metadata": {
        "id": "Sv7mit-LxhWg"
      },
      "execution_count": null,
      "outputs": []
    },
    {
      "cell_type": "code",
      "source": [
        "'''history = model2.fit(X_train,y_train,validation_data=(X_test,y_test),batch_size=32,epochs=30)"
      ],
      "metadata": {
        "id": "Ry00jce7uaSS"
      },
      "execution_count": null,
      "outputs": []
    },
    {
      "cell_type": "code",
      "source": [
        "'''plot_history(history)\n",
        "test_loss,test_acc = model.evaluate(X_test,y_test,verbose=2)\n",
        "print(test_acc)"
      ],
      "metadata": {
        "id": "OjK1LvqCxMR5"
      },
      "execution_count": null,
      "outputs": []
    },
    {
      "cell_type": "code",
      "source": [
        "import h5py\n",
        "filename = \"/content/drive/MyDrive/AML Project/saved_models/audio_classification_03:24:44.hdf5\"\n",
        "\n",
        "with h5py.File(filename, \"r\") as f:\n",
        "    # List all groups\n",
        "    print(\"Keys: %s\" % f.keys())\n",
        "    a_group_key = list(f.keys())[0]\n",
        "\n",
        "    # Get the data\n",
        "    data = list(f[a_group_key])"
      ],
      "metadata": {
        "colab": {
          "base_uri": "https://localhost:8080/"
        },
        "id": "m16pACnFKbf1",
        "outputId": "d86dbbec-9f59-4c6f-f974-b2d6a0459aca"
      },
      "execution_count": null,
      "outputs": [
        {
          "output_type": "stream",
          "name": "stdout",
          "text": [
            "Keys: <KeysViewHDF5 ['model_weights', 'optimizer_weights']>\n"
          ]
        }
      ]
    },
    {
      "cell_type": "markdown",
      "source": [
        ""
      ],
      "metadata": {
        "id": "u67OY867LYGB"
      }
    },
    {
      "cell_type": "code",
      "source": [
        "print(data[1])"
      ],
      "metadata": {
        "colab": {
          "base_uri": "https://localhost:8080/"
        },
        "id": "ed8UXkozKuZM",
        "outputId": "7fa88996-bd14-4834-ff8a-4cc2a65a77ec"
      },
      "execution_count": null,
      "outputs": [
        {
          "output_type": "stream",
          "name": "stdout",
          "text": [
            "dense_1\n"
          ]
        }
      ]
    },
    {
      "cell_type": "code",
      "source": [
        "from keras.models import load_model"
      ],
      "metadata": {
        "id": "L8p8xgcRK3bZ"
      },
      "execution_count": null,
      "outputs": []
    },
    {
      "cell_type": "code",
      "source": [
        "model2 = load_model('/content/drive/MyDrive/AML Project/saved_models/audio_classification_03:24:44.hdf5')\n",
        "model2.evaluate(X_test,y_test,verbose=2)"
      ],
      "metadata": {
        "colab": {
          "base_uri": "https://localhost:8080/"
        },
        "id": "EFY9si7FK-hR",
        "outputId": "07f7975d-79b9-4669-e43b-6aa5194b39dd"
      },
      "execution_count": null,
      "outputs": [
        {
          "output_type": "stream",
          "name": "stdout",
          "text": [
            "7/7 - 0s - loss: 1.3726 - accuracy: 0.5750 - 169ms/epoch - 24ms/step\n"
          ]
        },
        {
          "output_type": "execute_result",
          "data": {
            "text/plain": [
              "[1.3725979328155518, 0.574999988079071]"
            ]
          },
          "metadata": {},
          "execution_count": 37
        }
      ]
    },
    {
      "cell_type": "code",
      "source": [
        "model3 = load_model('/content/drive/MyDrive/AML Project/saved_models/audio_classification_03:59:30.hdf5')\n",
        "model3.evaluate(X_test,y_test,verbose=2)"
      ],
      "metadata": {
        "colab": {
          "base_uri": "https://localhost:8080/"
        },
        "id": "gAwY7RUHLc6M",
        "outputId": "21829c03-429d-465e-ffb2-425459c0719f"
      },
      "execution_count": null,
      "outputs": [
        {
          "output_type": "stream",
          "name": "stdout",
          "text": [
            "7/7 - 0s - loss: 1.3159 - accuracy: 0.5700 - 201ms/epoch - 29ms/step\n"
          ]
        },
        {
          "output_type": "execute_result",
          "data": {
            "text/plain": [
              "[1.3159003257751465, 0.5699999928474426]"
            ]
          },
          "metadata": {},
          "execution_count": 38
        }
      ]
    },
    {
      "cell_type": "code",
      "source": [
        "model4 = load_model('/content/drive/MyDrive/AML Project/saved_models/audio_classification_05:52:51.hdf5')\n",
        "model4.evaluate(X_test,y_test,verbose=2)"
      ],
      "metadata": {
        "colab": {
          "base_uri": "https://localhost:8080/"
        },
        "id": "rQey_A5-Lt8h",
        "outputId": "2308f4be-ab2d-4465-ae32-ba8be8fb03ed"
      },
      "execution_count": null,
      "outputs": [
        {
          "output_type": "stream",
          "name": "stdout",
          "text": [
            "7/7 - 0s - loss: 1.4404 - accuracy: 0.5500 - 204ms/epoch - 29ms/step\n"
          ]
        },
        {
          "output_type": "execute_result",
          "data": {
            "text/plain": [
              "[1.4404394626617432, 0.550000011920929]"
            ]
          },
          "metadata": {},
          "execution_count": 41
        }
      ]
    },
    {
      "cell_type": "code",
      "source": [
        "model4 = load_model('/content/drive/MyDrive/AML Project/saved_models/audio_classification_06:02:41.hdf5')\n",
        "model4.evaluate(X_test,y_test,verbose=2)"
      ],
      "metadata": {
        "colab": {
          "base_uri": "https://localhost:8080/"
        },
        "id": "WgGgfuRtL0lg",
        "outputId": "6905e342-a5b6-438b-93d0-92a2bce8557d"
      },
      "execution_count": null,
      "outputs": [
        {
          "output_type": "stream",
          "name": "stdout",
          "text": [
            "7/7 - 0s - loss: 1.2819 - accuracy: 0.6150 - 212ms/epoch - 30ms/step\n"
          ]
        },
        {
          "output_type": "execute_result",
          "data": {
            "text/plain": [
              "[1.281917929649353, 0.6150000095367432]"
            ]
          },
          "metadata": {},
          "execution_count": 42
        }
      ]
    },
    {
      "cell_type": "code",
      "source": [
        "model4 = load_model('/content/drive/MyDrive/AML Project/saved_models/audio_classification_06:09:33.hdf5')\n",
        "model4.evaluate(X_test,y_test,verbose=2)"
      ],
      "metadata": {
        "colab": {
          "base_uri": "https://localhost:8080/"
        },
        "id": "cczywQe4L9rp",
        "outputId": "ec2ad1dc-3403-43cb-c195-82f93d6981c7"
      },
      "execution_count": null,
      "outputs": [
        {
          "output_type": "stream",
          "name": "stdout",
          "text": [
            "7/7 - 0s - loss: 1.6985 - accuracy: 0.2900 - 186ms/epoch - 27ms/step\n"
          ]
        },
        {
          "output_type": "execute_result",
          "data": {
            "text/plain": [
              "[1.6984646320343018, 0.28999999165534973]"
            ]
          },
          "metadata": {},
          "execution_count": 43
        }
      ]
    },
    {
      "cell_type": "code",
      "source": [
        "model4 = load_model('/content/drive/MyDrive/AML Project/saved_models/audio_classification_06:14:19.hdf5')\n",
        "model4.evaluate(X_test,y_test,verbose=2)"
      ],
      "metadata": {
        "colab": {
          "base_uri": "https://localhost:8080/"
        },
        "id": "3DVE3g25MBR1",
        "outputId": "bdf58b36-1f28-4252-ec0a-031455ae244d"
      },
      "execution_count": null,
      "outputs": [
        {
          "output_type": "stream",
          "name": "stdout",
          "text": [
            "7/7 - 0s - loss: 1.2286 - accuracy: 0.6200 - 183ms/epoch - 26ms/step\n"
          ]
        },
        {
          "output_type": "execute_result",
          "data": {
            "text/plain": [
              "[1.2285995483398438, 0.6200000047683716]"
            ]
          },
          "metadata": {},
          "execution_count": 44
        }
      ]
    },
    {
      "cell_type": "code",
      "source": [
        "model4 = load_model('/content/drive/MyDrive/AML Project/saved_models/audio_classification_06:21:54.hdf5')\n",
        "model4.evaluate(X_test,y_test,verbose=2)"
      ],
      "metadata": {
        "colab": {
          "base_uri": "https://localhost:8080/"
        },
        "id": "j1o0euDlML71",
        "outputId": "238e1a63-82bb-4063-c59b-fd5867099197"
      },
      "execution_count": null,
      "outputs": [
        {
          "output_type": "stream",
          "name": "stdout",
          "text": [
            "7/7 - 0s - loss: 1.6993 - accuracy: 0.3850 - 203ms/epoch - 29ms/step\n"
          ]
        },
        {
          "output_type": "execute_result",
          "data": {
            "text/plain": [
              "[1.6993387937545776, 0.38499999046325684]"
            ]
          },
          "metadata": {},
          "execution_count": 46
        }
      ]
    },
    {
      "cell_type": "code",
      "source": [
        "pd.DataFrame(history.history).plot(figsize=(12,6))\n",
        "plt.show()"
      ],
      "metadata": {
        "id": "KtUA-GxVMTre"
      },
      "execution_count": null,
      "outputs": []
    }
  ]
}